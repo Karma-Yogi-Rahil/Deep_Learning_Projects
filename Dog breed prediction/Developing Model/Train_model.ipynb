{
 "cells": [
  {
   "cell_type": "code",
   "execution_count": 1,
   "metadata": {},
   "outputs": [],
   "source": [
    "import tensorflow"
   ]
  }
 ],
 "metadata": {
  "interpreter": {
   "hash": "85f6c125ff76989fa17a1d56079ec13dbd246d6080c1cfe81b5110e849c98a90"
  },
  "kernelspec": {
   "display_name": "Python 3.9.6 64-bit ('homebrew_tensorflow': conda)",
   "language": "python",
   "name": "python3"
  },
  "language_info": {
   "codemirror_mode": {
    "name": "ipython",
    "version": 3
   },
   "file_extension": ".py",
   "mimetype": "text/x-python",
   "name": "python",
   "nbconvert_exporter": "python",
   "pygments_lexer": "ipython3",
   "version": "3.9.6"
  },
  "orig_nbformat": 4
 },
 "nbformat": 4,
 "nbformat_minor": 2
}
