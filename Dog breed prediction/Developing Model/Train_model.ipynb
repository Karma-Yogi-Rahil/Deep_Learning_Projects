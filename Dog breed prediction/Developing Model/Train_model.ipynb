{
  "cells": [
    {
      "cell_type": "markdown",
      "metadata": {
        "id": "view-in-github",
        "colab_type": "text"
      },
      "source": [
        "<a href=\"https://colab.research.google.com/github/from-iqwerty-import-IQ/Deep_Learning_Projects/blob/main/Dog%20breed%20prediction/Developing%20Model/Train_model.ipynb\" target=\"_parent\"><img src=\"https://colab.research.google.com/assets/colab-badge.svg\" alt=\"Open In Colab\"/></a>"
      ]
    },
    {
      "cell_type": "code",
      "source": [
        "! mkdir ~/.kaggle\n",
        "! cp kaggle.json ~/.kaggle/\n",
        "! chmod 600 ~/.kaggle/kaggle.json"
      ],
      "metadata": {
        "id": "EIDA9IqhMuzh",
        "outputId": "cea9866c-9998-492d-fa85-4906fdb7754e",
        "colab": {
          "base_uri": "https://localhost:8080/"
        }
      },
      "execution_count": 3,
      "outputs": [
        {
          "output_type": "stream",
          "name": "stdout",
          "text": [
            "mkdir: cannot create directory ‘/root/.kaggle’: File exists\n"
          ]
        }
      ]
    },
    {
      "cell_type": "code",
      "source": [
        "!kaggle datasets download catherinehorng/dogbreedidfromcomp\n"
      ],
      "metadata": {
        "id": "h8WdtwI4MFl0",
        "outputId": "66f53883-b0ce-46eb-8563-cd8f56b5c399",
        "colab": {
          "base_uri": "https://localhost:8080/"
        }
      },
      "execution_count": 4,
      "outputs": [
        {
          "output_type": "stream",
          "name": "stdout",
          "text": [
            "Downloading dogbreedidfromcomp.zip to /content\n",
            "100% 689M/691M [00:04<00:00, 113MB/s]\n",
            "100% 691M/691M [00:04<00:00, 157MB/s]\n"
          ]
        }
      ]
    },
    {
      "cell_type": "code",
      "source": [
        "%%capture\n",
        "!unzip \\*.zip && rm *.zip &> /dev/null"
      ],
      "metadata": {
        "id": "wVdGMyOONEsK"
      },
      "execution_count": 5,
      "outputs": []
    },
    {
      "cell_type": "code",
      "source": [
        "# Important library imports\n",
        "import numpy as np \n",
        "import pandas as pd \n",
        "import matplotlib.pyplot as plt\n",
        "\n",
        "from tqdm import tqdm\n",
        "from keras.preprocessing import image\n",
        "from sklearn.preprocessing import label_binarize\n",
        "from sklearn.model_selection import train_test_split\n",
        "from keras.models import Sequential\n",
        "from keras.layers import Dense, Dropout, Flatten, Conv2D, MaxPool2D\n",
        "from tensorflow.keras.optimizers import Adam\n",
        "from tensorflow.keras import models\n",
        "from tensorflow.keras import layers\n",
        "from tensorflow.keras.preprocessing.image import ImageDataGenerator"
      ],
      "metadata": {
        "id": "riySkenENJRW"
      },
      "execution_count": 6,
      "outputs": []
    },
    {
      "cell_type": "code",
      "source": [
        "labels_all = pd.read_csv(\"/content/labels.csv\")\n",
        "print(labels_all.shape)\n",
        "labels_all.head()"
      ],
      "metadata": {
        "id": "sb9hv32aNLc7",
        "outputId": "efaf2a02-26f9-4a57-c390-8e8779f917ac",
        "colab": {
          "base_uri": "https://localhost:8080/",
          "height": 221
        }
      },
      "execution_count": 7,
      "outputs": [
        {
          "output_type": "stream",
          "name": "stdout",
          "text": [
            "(10222, 2)\n"
          ]
        },
        {
          "output_type": "execute_result",
          "data": {
            "text/html": [
              "\n",
              "  <div id=\"df-aa748204-182c-4e89-95be-df25243eedaf\">\n",
              "    <div class=\"colab-df-container\">\n",
              "      <div>\n",
              "<style scoped>\n",
              "    .dataframe tbody tr th:only-of-type {\n",
              "        vertical-align: middle;\n",
              "    }\n",
              "\n",
              "    .dataframe tbody tr th {\n",
              "        vertical-align: top;\n",
              "    }\n",
              "\n",
              "    .dataframe thead th {\n",
              "        text-align: right;\n",
              "    }\n",
              "</style>\n",
              "<table border=\"1\" class=\"dataframe\">\n",
              "  <thead>\n",
              "    <tr style=\"text-align: right;\">\n",
              "      <th></th>\n",
              "      <th>id</th>\n",
              "      <th>breed</th>\n",
              "    </tr>\n",
              "  </thead>\n",
              "  <tbody>\n",
              "    <tr>\n",
              "      <th>0</th>\n",
              "      <td>000bec180eb18c7604dcecc8fe0dba07</td>\n",
              "      <td>boston_bull</td>\n",
              "    </tr>\n",
              "    <tr>\n",
              "      <th>1</th>\n",
              "      <td>001513dfcb2ffafc82cccf4d8bbaba97</td>\n",
              "      <td>dingo</td>\n",
              "    </tr>\n",
              "    <tr>\n",
              "      <th>2</th>\n",
              "      <td>001cdf01b096e06d78e9e5112d419397</td>\n",
              "      <td>pekinese</td>\n",
              "    </tr>\n",
              "    <tr>\n",
              "      <th>3</th>\n",
              "      <td>00214f311d5d2247d5dfe4fe24b2303d</td>\n",
              "      <td>bluetick</td>\n",
              "    </tr>\n",
              "    <tr>\n",
              "      <th>4</th>\n",
              "      <td>0021f9ceb3235effd7fcde7f7538ed62</td>\n",
              "      <td>golden_retriever</td>\n",
              "    </tr>\n",
              "  </tbody>\n",
              "</table>\n",
              "</div>\n",
              "      <button class=\"colab-df-convert\" onclick=\"convertToInteractive('df-aa748204-182c-4e89-95be-df25243eedaf')\"\n",
              "              title=\"Convert this dataframe to an interactive table.\"\n",
              "              style=\"display:none;\">\n",
              "        \n",
              "  <svg xmlns=\"http://www.w3.org/2000/svg\" height=\"24px\"viewBox=\"0 0 24 24\"\n",
              "       width=\"24px\">\n",
              "    <path d=\"M0 0h24v24H0V0z\" fill=\"none\"/>\n",
              "    <path d=\"M18.56 5.44l.94 2.06.94-2.06 2.06-.94-2.06-.94-.94-2.06-.94 2.06-2.06.94zm-11 1L8.5 8.5l.94-2.06 2.06-.94-2.06-.94L8.5 2.5l-.94 2.06-2.06.94zm10 10l.94 2.06.94-2.06 2.06-.94-2.06-.94-.94-2.06-.94 2.06-2.06.94z\"/><path d=\"M17.41 7.96l-1.37-1.37c-.4-.4-.92-.59-1.43-.59-.52 0-1.04.2-1.43.59L10.3 9.45l-7.72 7.72c-.78.78-.78 2.05 0 2.83L4 21.41c.39.39.9.59 1.41.59.51 0 1.02-.2 1.41-.59l7.78-7.78 2.81-2.81c.8-.78.8-2.07 0-2.86zM5.41 20L4 18.59l7.72-7.72 1.47 1.35L5.41 20z\"/>\n",
              "  </svg>\n",
              "      </button>\n",
              "      \n",
              "  <style>\n",
              "    .colab-df-container {\n",
              "      display:flex;\n",
              "      flex-wrap:wrap;\n",
              "      gap: 12px;\n",
              "    }\n",
              "\n",
              "    .colab-df-convert {\n",
              "      background-color: #E8F0FE;\n",
              "      border: none;\n",
              "      border-radius: 50%;\n",
              "      cursor: pointer;\n",
              "      display: none;\n",
              "      fill: #1967D2;\n",
              "      height: 32px;\n",
              "      padding: 0 0 0 0;\n",
              "      width: 32px;\n",
              "    }\n",
              "\n",
              "    .colab-df-convert:hover {\n",
              "      background-color: #E2EBFA;\n",
              "      box-shadow: 0px 1px 2px rgba(60, 64, 67, 0.3), 0px 1px 3px 1px rgba(60, 64, 67, 0.15);\n",
              "      fill: #174EA6;\n",
              "    }\n",
              "\n",
              "    [theme=dark] .colab-df-convert {\n",
              "      background-color: #3B4455;\n",
              "      fill: #D2E3FC;\n",
              "    }\n",
              "\n",
              "    [theme=dark] .colab-df-convert:hover {\n",
              "      background-color: #434B5C;\n",
              "      box-shadow: 0px 1px 3px 1px rgba(0, 0, 0, 0.15);\n",
              "      filter: drop-shadow(0px 1px 2px rgba(0, 0, 0, 0.3));\n",
              "      fill: #FFFFFF;\n",
              "    }\n",
              "  </style>\n",
              "\n",
              "      <script>\n",
              "        const buttonEl =\n",
              "          document.querySelector('#df-aa748204-182c-4e89-95be-df25243eedaf button.colab-df-convert');\n",
              "        buttonEl.style.display =\n",
              "          google.colab.kernel.accessAllowed ? 'block' : 'none';\n",
              "\n",
              "        async function convertToInteractive(key) {\n",
              "          const element = document.querySelector('#df-aa748204-182c-4e89-95be-df25243eedaf');\n",
              "          const dataTable =\n",
              "            await google.colab.kernel.invokeFunction('convertToInteractive',\n",
              "                                                     [key], {});\n",
              "          if (!dataTable) return;\n",
              "\n",
              "          const docLinkHtml = 'Like what you see? Visit the ' +\n",
              "            '<a target=\"_blank\" href=https://colab.research.google.com/notebooks/data_table.ipynb>data table notebook</a>'\n",
              "            + ' to learn more about interactive tables.';\n",
              "          element.innerHTML = '';\n",
              "          dataTable['output_type'] = 'display_data';\n",
              "          await google.colab.output.renderOutput(dataTable, element);\n",
              "          const docLink = document.createElement('div');\n",
              "          docLink.innerHTML = docLinkHtml;\n",
              "          element.appendChild(docLink);\n",
              "        }\n",
              "      </script>\n",
              "    </div>\n",
              "  </div>\n",
              "  "
            ],
            "text/plain": [
              "                                 id             breed\n",
              "0  000bec180eb18c7604dcecc8fe0dba07       boston_bull\n",
              "1  001513dfcb2ffafc82cccf4d8bbaba97             dingo\n",
              "2  001cdf01b096e06d78e9e5112d419397          pekinese\n",
              "3  00214f311d5d2247d5dfe4fe24b2303d          bluetick\n",
              "4  0021f9ceb3235effd7fcde7f7538ed62  golden_retriever"
            ]
          },
          "metadata": {},
          "execution_count": 7
        }
      ]
    },
    {
      "cell_type": "code",
      "source": [
        "# Visualize the number of each breeds\n",
        "breeds_all = labels_all[\"breed\"]\n",
        "\n",
        "breed_counts = breeds_all.value_counts()\n",
        "print(breed_counts.head(50))"
      ],
      "metadata": {
        "id": "n9USvkoENQtn",
        "outputId": "408a5aa7-a51e-480a-a7f5-02b63670c0f9",
        "colab": {
          "base_uri": "https://localhost:8080/"
        }
      },
      "execution_count": 34,
      "outputs": [
        {
          "output_type": "stream",
          "name": "stdout",
          "text": [
            "scottish_deerhound      126\n",
            "maltese_dog             117\n",
            "afghan_hound            116\n",
            "entlebucher             115\n",
            "bernese_mountain_dog    114\n",
            "shih-tzu                112\n",
            "pomeranian              111\n",
            "great_pyrenees          111\n",
            "basenji                 110\n",
            "samoyed                 109\n",
            "airedale                107\n",
            "tibetan_terrier         107\n",
            "cairn                   106\n",
            "leonberg                106\n",
            "japanese_spaniel        105\n",
            "beagle                  105\n",
            "miniature_pinscher      102\n",
            "australian_terrier      102\n",
            "blenheim_spaniel        102\n",
            "irish_wolfhound         101\n",
            "lakeland_terrier         99\n",
            "saluki                   99\n",
            "papillon                 96\n",
            "whippet                  95\n",
            "siberian_husky           95\n",
            "norwegian_elkhound       95\n",
            "pug                      94\n",
            "chow                     93\n",
            "italian_greyhound        92\n",
            "pembroke                 92\n",
            "newfoundland             91\n",
            "ibizan_hound             91\n",
            "border_terrier           91\n",
            "silky_terrier            90\n",
            "lhasa                    90\n",
            "dandie_dinmont           89\n",
            "bedlington_terrier       89\n",
            "sealyham_terrier         88\n",
            "irish_setter             88\n",
            "rhodesian_ridgeback      88\n",
            "boston_bull              87\n",
            "old_english_sheepdog     87\n",
            "collie                   87\n",
            "african_hunting_dog      86\n",
            "schipperke               86\n",
            "bouvier_des_flandres     86\n",
            "kelpie                   86\n",
            "english_foxhound         86\n",
            "bloodhound               85\n",
            "bluetick                 85\n",
            "Name: breed, dtype: int64\n"
          ]
        }
      ]
    },
    {
      "cell_type": "code",
      "source": [
        "# Selecting first 3 breeds (Limitation due to computation power)\n",
        "CLASS_NAMES = ['maltese_dog','pug','pomeranian','labrador_retriever']\n",
        "labels = labels_all[(labels_all['breed'].isin(CLASS_NAMES))]\n",
        "labels = labels.reset_index()\n",
        "labels.head()"
      ],
      "metadata": {
        "id": "KrnJe3vXNWFG",
        "outputId": "8405890b-2b79-46ab-9c95-3d237fd670bf",
        "colab": {
          "base_uri": "https://localhost:8080/",
          "height": 204
        }
      },
      "execution_count": 45,
      "outputs": [
        {
          "output_type": "execute_result",
          "data": {
            "text/html": [
              "\n",
              "  <div id=\"df-766af73a-c3a8-40fa-9247-fb1787f24ae2\">\n",
              "    <div class=\"colab-df-container\">\n",
              "      <div>\n",
              "<style scoped>\n",
              "    .dataframe tbody tr th:only-of-type {\n",
              "        vertical-align: middle;\n",
              "    }\n",
              "\n",
              "    .dataframe tbody tr th {\n",
              "        vertical-align: top;\n",
              "    }\n",
              "\n",
              "    .dataframe thead th {\n",
              "        text-align: right;\n",
              "    }\n",
              "</style>\n",
              "<table border=\"1\" class=\"dataframe\">\n",
              "  <thead>\n",
              "    <tr style=\"text-align: right;\">\n",
              "      <th></th>\n",
              "      <th>index</th>\n",
              "      <th>id</th>\n",
              "      <th>breed</th>\n",
              "    </tr>\n",
              "  </thead>\n",
              "  <tbody>\n",
              "    <tr>\n",
              "      <th>0</th>\n",
              "      <td>12</td>\n",
              "      <td>00693b8bc2470375cc744a6391d397ec</td>\n",
              "      <td>maltese_dog</td>\n",
              "    </tr>\n",
              "    <tr>\n",
              "      <th>1</th>\n",
              "      <td>31</td>\n",
              "      <td>00cc68a50b2d016a6b29af628ea4e04b</td>\n",
              "      <td>labrador_retriever</td>\n",
              "    </tr>\n",
              "    <tr>\n",
              "      <th>2</th>\n",
              "      <td>90</td>\n",
              "      <td>022b34fd8734b39995a9f38a4f3e7b6b</td>\n",
              "      <td>maltese_dog</td>\n",
              "    </tr>\n",
              "    <tr>\n",
              "      <th>3</th>\n",
              "      <td>92</td>\n",
              "      <td>023e4e28415506e0deddcbd8f8bdab29</td>\n",
              "      <td>pug</td>\n",
              "    </tr>\n",
              "    <tr>\n",
              "      <th>4</th>\n",
              "      <td>97</td>\n",
              "      <td>02508e76981e1ba059d785704b4c480c</td>\n",
              "      <td>pug</td>\n",
              "    </tr>\n",
              "  </tbody>\n",
              "</table>\n",
              "</div>\n",
              "      <button class=\"colab-df-convert\" onclick=\"convertToInteractive('df-766af73a-c3a8-40fa-9247-fb1787f24ae2')\"\n",
              "              title=\"Convert this dataframe to an interactive table.\"\n",
              "              style=\"display:none;\">\n",
              "        \n",
              "  <svg xmlns=\"http://www.w3.org/2000/svg\" height=\"24px\"viewBox=\"0 0 24 24\"\n",
              "       width=\"24px\">\n",
              "    <path d=\"M0 0h24v24H0V0z\" fill=\"none\"/>\n",
              "    <path d=\"M18.56 5.44l.94 2.06.94-2.06 2.06-.94-2.06-.94-.94-2.06-.94 2.06-2.06.94zm-11 1L8.5 8.5l.94-2.06 2.06-.94-2.06-.94L8.5 2.5l-.94 2.06-2.06.94zm10 10l.94 2.06.94-2.06 2.06-.94-2.06-.94-.94-2.06-.94 2.06-2.06.94z\"/><path d=\"M17.41 7.96l-1.37-1.37c-.4-.4-.92-.59-1.43-.59-.52 0-1.04.2-1.43.59L10.3 9.45l-7.72 7.72c-.78.78-.78 2.05 0 2.83L4 21.41c.39.39.9.59 1.41.59.51 0 1.02-.2 1.41-.59l7.78-7.78 2.81-2.81c.8-.78.8-2.07 0-2.86zM5.41 20L4 18.59l7.72-7.72 1.47 1.35L5.41 20z\"/>\n",
              "  </svg>\n",
              "      </button>\n",
              "      \n",
              "  <style>\n",
              "    .colab-df-container {\n",
              "      display:flex;\n",
              "      flex-wrap:wrap;\n",
              "      gap: 12px;\n",
              "    }\n",
              "\n",
              "    .colab-df-convert {\n",
              "      background-color: #E8F0FE;\n",
              "      border: none;\n",
              "      border-radius: 50%;\n",
              "      cursor: pointer;\n",
              "      display: none;\n",
              "      fill: #1967D2;\n",
              "      height: 32px;\n",
              "      padding: 0 0 0 0;\n",
              "      width: 32px;\n",
              "    }\n",
              "\n",
              "    .colab-df-convert:hover {\n",
              "      background-color: #E2EBFA;\n",
              "      box-shadow: 0px 1px 2px rgba(60, 64, 67, 0.3), 0px 1px 3px 1px rgba(60, 64, 67, 0.15);\n",
              "      fill: #174EA6;\n",
              "    }\n",
              "\n",
              "    [theme=dark] .colab-df-convert {\n",
              "      background-color: #3B4455;\n",
              "      fill: #D2E3FC;\n",
              "    }\n",
              "\n",
              "    [theme=dark] .colab-df-convert:hover {\n",
              "      background-color: #434B5C;\n",
              "      box-shadow: 0px 1px 3px 1px rgba(0, 0, 0, 0.15);\n",
              "      filter: drop-shadow(0px 1px 2px rgba(0, 0, 0, 0.3));\n",
              "      fill: #FFFFFF;\n",
              "    }\n",
              "  </style>\n",
              "\n",
              "      <script>\n",
              "        const buttonEl =\n",
              "          document.querySelector('#df-766af73a-c3a8-40fa-9247-fb1787f24ae2 button.colab-df-convert');\n",
              "        buttonEl.style.display =\n",
              "          google.colab.kernel.accessAllowed ? 'block' : 'none';\n",
              "\n",
              "        async function convertToInteractive(key) {\n",
              "          const element = document.querySelector('#df-766af73a-c3a8-40fa-9247-fb1787f24ae2');\n",
              "          const dataTable =\n",
              "            await google.colab.kernel.invokeFunction('convertToInteractive',\n",
              "                                                     [key], {});\n",
              "          if (!dataTable) return;\n",
              "\n",
              "          const docLinkHtml = 'Like what you see? Visit the ' +\n",
              "            '<a target=\"_blank\" href=https://colab.research.google.com/notebooks/data_table.ipynb>data table notebook</a>'\n",
              "            + ' to learn more about interactive tables.';\n",
              "          element.innerHTML = '';\n",
              "          dataTable['output_type'] = 'display_data';\n",
              "          await google.colab.output.renderOutput(dataTable, element);\n",
              "          const docLink = document.createElement('div');\n",
              "          docLink.innerHTML = docLinkHtml;\n",
              "          element.appendChild(docLink);\n",
              "        }\n",
              "      </script>\n",
              "    </div>\n",
              "  </div>\n",
              "  "
            ],
            "text/plain": [
              "   index                                id               breed\n",
              "0     12  00693b8bc2470375cc744a6391d397ec         maltese_dog\n",
              "1     31  00cc68a50b2d016a6b29af628ea4e04b  labrador_retriever\n",
              "2     90  022b34fd8734b39995a9f38a4f3e7b6b         maltese_dog\n",
              "3     92  023e4e28415506e0deddcbd8f8bdab29                 pug\n",
              "4     97  02508e76981e1ba059d785704b4c480c                 pug"
            ]
          },
          "metadata": {},
          "execution_count": 45
        }
      ]
    },
    {
      "cell_type": "code",
      "source": [
        "# Creating numpy matrix with zeros\n",
        "X_data = np.zeros((len(labels), 224, 224, 3), dtype='float32')\n",
        "# One hot encoding\n",
        "Y_data = label_binarize(labels['breed'], classes = CLASS_NAMES)\n",
        "\n",
        "# Reading and converting image to numpy array and normalizing dataset\n",
        "for i in tqdm(range(len(labels))):\n",
        "    img = image.load_img('/content/train/%s.jpg' % labels['id'][i], target_size=(224, 224))\n",
        "    img = image.img_to_array(img)\n",
        "    x = np.expand_dims(img.copy(), axis=0)\n",
        "    X_data[i] = x / 255.0\n",
        "    \n",
        "# Printing train image and one hot encode shape & size\n",
        "print('\\nTrain Images shape: ',X_data.shape,' size: {:,}'.format(X_data.size))\n",
        "print('One-hot encoded output shape: ',Y_data.shape,' size: {:,}'.format(Y_data.size))"
      ],
      "metadata": {
        "id": "RpNwQomMNYZM",
        "outputId": "51f73814-af83-46ca-e468-8a7a1f4c7596",
        "colab": {
          "base_uri": "https://localhost:8080/"
        }
      },
      "execution_count": 46,
      "outputs": [
        {
          "output_type": "stream",
          "name": "stderr",
          "text": [
            "100%|██████████| 406/406 [00:01<00:00, 307.74it/s]"
          ]
        },
        {
          "output_type": "stream",
          "name": "stdout",
          "text": [
            "\n",
            "Train Images shape:  (406, 224, 224, 3)  size: 61,114,368\n",
            "One-hot encoded output shape:  (406, 4)  size: 1,624\n"
          ]
        },
        {
          "output_type": "stream",
          "name": "stderr",
          "text": [
            "\n"
          ]
        }
      ]
    },
    {
      "cell_type": "code",
      "source": [
        "# Building the Model\n",
        "model = Sequential()\n",
        "\n",
        "model.add(layers.Conv2D(64,(3,3),input_shape=(224,224,3),activation='relu'))\n",
        "model.add(layers.MaxPool2D(2,2))\n",
        "\n",
        "model.add(layers.Conv2D(128,(3,3),activation='relu'))\n",
        "model.add(layers.MaxPool2D(2,2))\n",
        "\n",
        "model.add(layers.Conv2D(128,(3,3),activation='relu'))\n",
        "model.add(layers.MaxPool2D(2,2))\n",
        "\n",
        "model.add(layers.Conv2D(512,(3,3),activation='relu'))\n",
        "model.add(layers.MaxPool2D(2,2))\n",
        "\n",
        "model.add(layers.Flatten())\n",
        "model.add(layers.Dropout(0.5))\n",
        "\n",
        "model.add(layers.Dense(512,activation='relu'))\n",
        "model.add(layers.Dense(512,activation='relu'))\n",
        "model.add(Dense(len(CLASS_NAMES), activation = \"softmax\"))\n",
        "\n",
        "model.compile(loss = 'categorical_crossentropy', optimizer = Adam(0.0001),metrics=['accuracy'])\n",
        "\n",
        "model.summary()"
      ],
      "metadata": {
        "id": "mh2dPeWHNWH_",
        "outputId": "d9829f96-5cb2-4c2c-85e9-cbcd4f41c170",
        "colab": {
          "base_uri": "https://localhost:8080/"
        }
      },
      "execution_count": 47,
      "outputs": [
        {
          "output_type": "stream",
          "name": "stdout",
          "text": [
            "Model: \"sequential_3\"\n",
            "_________________________________________________________________\n",
            " Layer (type)                Output Shape              Param #   \n",
            "=================================================================\n",
            " conv2d_12 (Conv2D)          (None, 222, 222, 64)      1792      \n",
            "                                                                 \n",
            " max_pooling2d_12 (MaxPoolin  (None, 111, 111, 64)     0         \n",
            " g2D)                                                            \n",
            "                                                                 \n",
            " conv2d_13 (Conv2D)          (None, 109, 109, 128)     73856     \n",
            "                                                                 \n",
            " max_pooling2d_13 (MaxPoolin  (None, 54, 54, 128)      0         \n",
            " g2D)                                                            \n",
            "                                                                 \n",
            " conv2d_14 (Conv2D)          (None, 52, 52, 128)       147584    \n",
            "                                                                 \n",
            " max_pooling2d_14 (MaxPoolin  (None, 26, 26, 128)      0         \n",
            " g2D)                                                            \n",
            "                                                                 \n",
            " conv2d_15 (Conv2D)          (None, 24, 24, 512)       590336    \n",
            "                                                                 \n",
            " max_pooling2d_15 (MaxPoolin  (None, 12, 12, 512)      0         \n",
            " g2D)                                                            \n",
            "                                                                 \n",
            " flatten_3 (Flatten)         (None, 73728)             0         \n",
            "                                                                 \n",
            " dropout_3 (Dropout)         (None, 73728)             0         \n",
            "                                                                 \n",
            " dense_9 (Dense)             (None, 512)               37749248  \n",
            "                                                                 \n",
            " dense_10 (Dense)            (None, 512)               262656    \n",
            "                                                                 \n",
            " dense_11 (Dense)            (None, 4)                 2052      \n",
            "                                                                 \n",
            "=================================================================\n",
            "Total params: 38,827,524\n",
            "Trainable params: 38,827,524\n",
            "Non-trainable params: 0\n",
            "_________________________________________________________________\n"
          ]
        }
      ]
    },
    {
      "cell_type": "code",
      "source": [
        "# Splitting the data set into training and testing data sets\n",
        "X_train_and_val, X_test, Y_train_and_val, Y_test = train_test_split(X_data, Y_data, test_size = 0.1)\n",
        "# Splitting the training data set into training and validation data sets\n",
        "X_train, X_val, Y_train, Y_val = train_test_split(X_train_and_val, Y_train_and_val, test_size = 0.2)"
      ],
      "metadata": {
        "id": "toWO5u0tNQve"
      },
      "execution_count": 51,
      "outputs": []
    },
    {
      "cell_type": "code",
      "source": [
        "# data augmentation\n"
      ],
      "metadata": {
        "id": "QtOD8uDsSbYF"
      },
      "execution_count": null,
      "outputs": []
    },
    {
      "cell_type": "code",
      "source": [
        "# Training the model\n",
        "epochs = 50\n",
        "batch_size = 128\n",
        "\n",
        "history = model.fit(X_train, Y_train, \n",
        "                    \n",
        "                    epochs = epochs, \n",
        "                    validation_data = (X_val, Y_val))"
      ],
      "metadata": {
        "id": "NNfFxxrtOckT",
        "outputId": "20391e6c-3638-4aff-9052-004e98523197",
        "colab": {
          "base_uri": "https://localhost:8080/"
        }
      },
      "execution_count": 52,
      "outputs": [
        {
          "output_type": "stream",
          "name": "stdout",
          "text": [
            "Epoch 1/50\n",
            "10/10 [==============================] - 1s 60ms/step - loss: 1.2945 - accuracy: 0.7774 - val_loss: 1.2890 - val_accuracy: 0.5342\n",
            "Epoch 2/50\n",
            "10/10 [==============================] - 1s 58ms/step - loss: 0.6104 - accuracy: 0.8185 - val_loss: 0.8254 - val_accuracy: 0.6849\n",
            "Epoch 3/50\n",
            "10/10 [==============================] - 1s 59ms/step - loss: 0.4766 - accuracy: 0.8733 - val_loss: 0.6283 - val_accuracy: 0.7671\n",
            "Epoch 4/50\n",
            "10/10 [==============================] - 1s 59ms/step - loss: 0.3254 - accuracy: 0.9075 - val_loss: 0.8044 - val_accuracy: 0.7397\n",
            "Epoch 5/50\n",
            "10/10 [==============================] - 1s 59ms/step - loss: 0.3400 - accuracy: 0.8801 - val_loss: 0.4815 - val_accuracy: 0.7945\n",
            "Epoch 6/50\n",
            "10/10 [==============================] - 1s 59ms/step - loss: 0.2131 - accuracy: 0.9418 - val_loss: 0.4377 - val_accuracy: 0.8630\n",
            "Epoch 7/50\n",
            "10/10 [==============================] - 1s 59ms/step - loss: 0.1353 - accuracy: 0.9658 - val_loss: 0.3447 - val_accuracy: 0.8493\n",
            "Epoch 8/50\n",
            "10/10 [==============================] - 1s 59ms/step - loss: 0.0970 - accuracy: 0.9726 - val_loss: 0.4375 - val_accuracy: 0.8904\n",
            "Epoch 9/50\n",
            "10/10 [==============================] - 1s 60ms/step - loss: 0.0580 - accuracy: 0.9966 - val_loss: 0.3074 - val_accuracy: 0.8904\n",
            "Epoch 10/50\n",
            "10/10 [==============================] - 1s 59ms/step - loss: 0.0343 - accuracy: 0.9966 - val_loss: 0.3385 - val_accuracy: 0.8904\n",
            "Epoch 11/50\n",
            "10/10 [==============================] - 1s 59ms/step - loss: 0.0205 - accuracy: 1.0000 - val_loss: 0.3445 - val_accuracy: 0.8904\n",
            "Epoch 12/50\n",
            "10/10 [==============================] - 1s 58ms/step - loss: 0.0156 - accuracy: 1.0000 - val_loss: 0.3758 - val_accuracy: 0.8904\n",
            "Epoch 13/50\n",
            "10/10 [==============================] - 1s 59ms/step - loss: 0.0104 - accuracy: 1.0000 - val_loss: 0.4338 - val_accuracy: 0.8904\n",
            "Epoch 14/50\n",
            "10/10 [==============================] - 1s 59ms/step - loss: 0.0087 - accuracy: 1.0000 - val_loss: 0.3766 - val_accuracy: 0.8767\n",
            "Epoch 15/50\n",
            "10/10 [==============================] - 1s 58ms/step - loss: 0.0081 - accuracy: 1.0000 - val_loss: 0.3650 - val_accuracy: 0.8767\n",
            "Epoch 16/50\n",
            "10/10 [==============================] - 1s 59ms/step - loss: 0.0066 - accuracy: 1.0000 - val_loss: 0.4232 - val_accuracy: 0.8904\n",
            "Epoch 17/50\n",
            "10/10 [==============================] - 1s 59ms/step - loss: 0.0055 - accuracy: 1.0000 - val_loss: 0.4047 - val_accuracy: 0.8904\n",
            "Epoch 18/50\n",
            "10/10 [==============================] - 1s 59ms/step - loss: 0.0046 - accuracy: 1.0000 - val_loss: 0.4050 - val_accuracy: 0.8904\n",
            "Epoch 19/50\n",
            "10/10 [==============================] - 1s 59ms/step - loss: 0.0049 - accuracy: 1.0000 - val_loss: 0.3652 - val_accuracy: 0.9041\n",
            "Epoch 20/50\n",
            "10/10 [==============================] - 1s 58ms/step - loss: 0.0040 - accuracy: 1.0000 - val_loss: 0.3768 - val_accuracy: 0.8904\n",
            "Epoch 21/50\n",
            "10/10 [==============================] - 1s 59ms/step - loss: 0.0046 - accuracy: 1.0000 - val_loss: 0.4769 - val_accuracy: 0.8767\n",
            "Epoch 22/50\n",
            "10/10 [==============================] - 1s 59ms/step - loss: 0.0042 - accuracy: 1.0000 - val_loss: 0.3814 - val_accuracy: 0.9041\n",
            "Epoch 23/50\n",
            "10/10 [==============================] - 1s 59ms/step - loss: 0.0043 - accuracy: 1.0000 - val_loss: 0.4340 - val_accuracy: 0.9041\n",
            "Epoch 24/50\n",
            "10/10 [==============================] - 1s 59ms/step - loss: 0.0024 - accuracy: 1.0000 - val_loss: 0.4155 - val_accuracy: 0.8904\n",
            "Epoch 25/50\n",
            "10/10 [==============================] - 1s 59ms/step - loss: 0.0023 - accuracy: 1.0000 - val_loss: 0.4632 - val_accuracy: 0.8904\n",
            "Epoch 26/50\n",
            "10/10 [==============================] - 1s 59ms/step - loss: 0.0023 - accuracy: 1.0000 - val_loss: 0.4153 - val_accuracy: 0.8904\n",
            "Epoch 27/50\n",
            "10/10 [==============================] - 1s 59ms/step - loss: 0.0019 - accuracy: 1.0000 - val_loss: 0.3427 - val_accuracy: 0.8767\n",
            "Epoch 28/50\n",
            "10/10 [==============================] - 1s 58ms/step - loss: 0.0018 - accuracy: 1.0000 - val_loss: 0.4080 - val_accuracy: 0.8904\n",
            "Epoch 29/50\n",
            "10/10 [==============================] - 1s 59ms/step - loss: 0.0019 - accuracy: 1.0000 - val_loss: 0.4386 - val_accuracy: 0.8904\n",
            "Epoch 30/50\n",
            "10/10 [==============================] - 1s 59ms/step - loss: 0.0015 - accuracy: 1.0000 - val_loss: 0.4035 - val_accuracy: 0.8767\n",
            "Epoch 31/50\n",
            "10/10 [==============================] - 1s 60ms/step - loss: 0.0015 - accuracy: 1.0000 - val_loss: 0.3855 - val_accuracy: 0.9041\n",
            "Epoch 32/50\n",
            "10/10 [==============================] - 1s 58ms/step - loss: 0.0016 - accuracy: 1.0000 - val_loss: 0.4230 - val_accuracy: 0.8904\n",
            "Epoch 33/50\n",
            "10/10 [==============================] - 1s 59ms/step - loss: 0.0030 - accuracy: 1.0000 - val_loss: 0.3770 - val_accuracy: 0.9041\n",
            "Epoch 34/50\n",
            "10/10 [==============================] - 1s 59ms/step - loss: 0.0036 - accuracy: 1.0000 - val_loss: 0.4662 - val_accuracy: 0.9041\n",
            "Epoch 35/50\n",
            "10/10 [==============================] - 1s 60ms/step - loss: 0.0024 - accuracy: 1.0000 - val_loss: 0.4280 - val_accuracy: 0.9041\n",
            "Epoch 36/50\n",
            "10/10 [==============================] - 1s 59ms/step - loss: 0.0036 - accuracy: 1.0000 - val_loss: 0.4096 - val_accuracy: 0.9041\n",
            "Epoch 37/50\n",
            "10/10 [==============================] - 1s 58ms/step - loss: 0.0040 - accuracy: 1.0000 - val_loss: 0.5125 - val_accuracy: 0.9041\n",
            "Epoch 38/50\n",
            "10/10 [==============================] - 1s 58ms/step - loss: 0.0024 - accuracy: 1.0000 - val_loss: 0.3967 - val_accuracy: 0.8904\n",
            "Epoch 39/50\n",
            "10/10 [==============================] - 1s 59ms/step - loss: 0.0016 - accuracy: 1.0000 - val_loss: 0.3978 - val_accuracy: 0.8904\n",
            "Epoch 40/50\n",
            "10/10 [==============================] - 1s 60ms/step - loss: 0.0010 - accuracy: 1.0000 - val_loss: 0.4106 - val_accuracy: 0.9041\n",
            "Epoch 41/50\n",
            "10/10 [==============================] - 1s 59ms/step - loss: 8.3591e-04 - accuracy: 1.0000 - val_loss: 0.4169 - val_accuracy: 0.9041\n",
            "Epoch 42/50\n",
            "10/10 [==============================] - 1s 59ms/step - loss: 0.0010 - accuracy: 1.0000 - val_loss: 0.4190 - val_accuracy: 0.9041\n",
            "Epoch 43/50\n",
            "10/10 [==============================] - 1s 59ms/step - loss: 7.4679e-04 - accuracy: 1.0000 - val_loss: 0.4282 - val_accuracy: 0.9041\n",
            "Epoch 44/50\n",
            "10/10 [==============================] - 1s 59ms/step - loss: 7.9078e-04 - accuracy: 1.0000 - val_loss: 0.4300 - val_accuracy: 0.9041\n",
            "Epoch 45/50\n",
            "10/10 [==============================] - 1s 60ms/step - loss: 7.2000e-04 - accuracy: 1.0000 - val_loss: 0.4286 - val_accuracy: 0.8904\n",
            "Epoch 46/50\n",
            "10/10 [==============================] - 1s 59ms/step - loss: 8.8653e-04 - accuracy: 1.0000 - val_loss: 0.4338 - val_accuracy: 0.8904\n",
            "Epoch 47/50\n",
            "10/10 [==============================] - 1s 60ms/step - loss: 8.6189e-04 - accuracy: 1.0000 - val_loss: 0.4500 - val_accuracy: 0.8904\n",
            "Epoch 48/50\n",
            "10/10 [==============================] - 1s 59ms/step - loss: 6.9109e-04 - accuracy: 1.0000 - val_loss: 0.4641 - val_accuracy: 0.8904\n",
            "Epoch 49/50\n",
            "10/10 [==============================] - 1s 59ms/step - loss: 6.4939e-04 - accuracy: 1.0000 - val_loss: 0.4389 - val_accuracy: 0.8904\n",
            "Epoch 50/50\n",
            "10/10 [==============================] - 1s 58ms/step - loss: 6.7570e-04 - accuracy: 1.0000 - val_loss: 0.4129 - val_accuracy: 0.9041\n"
          ]
        }
      ]
    },
    {
      "cell_type": "code",
      "source": [
        "# Plot the training history\n",
        "plt.figure(figsize=(12, 5))\n",
        "plt.plot(history.history['accuracy'], color='r')\n",
        "plt.plot(history.history['val_accuracy'], color='b')\n",
        "plt.title('Model Accuracy')\n",
        "plt.ylabel('Accuracy')\n",
        "plt.xlabel('Epochs')\n",
        "plt.legend(['train', 'val'])\n",
        "\n",
        "plt.show()"
      ],
      "metadata": {
        "id": "Ovb6-diROeUM",
        "outputId": "3ca5ea20-5575-4f9c-b929-28be97c70c86",
        "colab": {
          "base_uri": "https://localhost:8080/",
          "height": 350
        }
      },
      "execution_count": 53,
      "outputs": [
        {
          "output_type": "display_data",
          "data": {
            "image/png": "[encoded data removed]",
            "text/plain": [
              "<Figure size 864x360 with 1 Axes>"
            ]
          },
          "metadata": {
            "needs_background": "light"
          }
        }
      ]
    },
    {
      "cell_type": "code",
      "source": [
        "Y_pred = model.predict(X_test)\n",
        "score = model.evaluate(X_test, Y_test)\n",
        "print('Accuracy over the test set: \\n ', round((score[1]*100), 2), '%')"
      ],
      "metadata": {
        "id": "s0IZAvdsRviA",
        "outputId": "562b949c-0dc0-45f1-a9aa-b9de2f1a5bcb",
        "colab": {
          "base_uri": "https://localhost:8080/"
        }
      },
      "execution_count": 54,
      "outputs": [
        {
          "output_type": "stream",
          "name": "stdout",
          "text": [
            "2/2 [==============================] - 0s 10ms/step - loss: 1.1668 - accuracy: 0.8049\n",
            "Accuracy over the test set: \n",
            "  80.49 %\n"
          ]
        }
      ]
    },
    {
      "cell_type": "code",
      "source": [
        "print(len(X_test))"
      ],
      "metadata": {
        "id": "Qk12Q9kiWYNc",
        "outputId": "447e4192-be92-4ce3-d416-3019d436aef7",
        "colab": {
          "base_uri": "https://localhost:8080/"
        }
      },
      "execution_count": 55,
      "outputs": [
        {
          "output_type": "stream",
          "name": "stdout",
          "text": [
            "41\n"
          ]
        }
      ]
    },
    {
      "cell_type": "code",
      "source": [
        "no = int(input())\n",
        "plt.imshow(X_test[no,:,:,:])\n",
        "plt.show()\n",
        "\n",
        "# Finding max value from predition list and comaparing original value vs predicted\n",
        "print(\"Originally : \",labels['breed'][np.argmax(Y_test[no])])\n",
        "print(\"Predicted : \",labels['breed'][np.argmax(Y_pred[no])])"
      ],
      "metadata": {
        "id": "sFqqRDP4RxbS",
        "outputId": "c4e48cda-85a1-4661-fcf3-1fca38ea7bf5",
        "colab": {
          "base_uri": "https://localhost:8080/",
          "height": 320
        }
      },
      "execution_count": 56,
      "outputs": [
        {
          "name": "stdout",
          "output_type": "stream",
          "text": [
            "34\n"
          ]
        },
        {
          "output_type": "display_data",
          "data": {
            "image/png": "[encoded data removed]",
            "text/plain": [
              "<Figure size 432x288 with 1 Axes>"
            ]
          },
          "metadata": {
            "needs_background": "light"
          }
        },
        {
          "output_type": "stream",
          "name": "stdout",
          "text": [
            "Originally :  labrador_retriever\n",
            "Predicted :  labrador_retriever\n"
          ]
        }
      ]
    },
    {
      "cell_type": "code",
      "source": [
        "model.save('dog_80.h5')"
      ],
      "metadata": {
        "id": "-TUGZyd1VGQg"
      },
      "execution_count": 58,
      "outputs": []
    }
  ],
  "metadata": {
    "interpreter": {
      "hash": "85f6c125ff76989fa17a1d56079ec13dbd246d6080c1cfe81b5110e849c98a90"
    },
    "kernelspec": {
      "display_name": "Python 3.9.6 64-bit ('homebrew_tensorflow': conda)",
      "language": "python",
      "name": "python3"
    },
    "language_info": {
      "codemirror_mode": {
        "name": "ipython",
        "version": 3
      },
      "file_extension": ".py",
      "mimetype": "text/x-python",
      "name": "python",
      "nbconvert_exporter": "python",
      "pygments_lexer": "ipython3",
      "version": "3.9.6"
    },
    "orig_nbformat": 4,
    "colab": {
      "name": "Train_model.ipynb",
      "provenance": [],
      "machine_shape": "hm",
      "include_colab_link": true
    },
    "accelerator": "GPU"
  },
  "nbformat": 4,
  "nbformat_minor": 0
}