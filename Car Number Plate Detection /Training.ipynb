{
  "nbformat": 4,
  "nbformat_minor": 0,
  "metadata": {
    "orig_nbformat": 4,
    "language_info": {
      "name": "python",
      "version": "3.9.6",
      "mimetype": "text/x-python",
      "codemirror_mode": {
        "name": "ipython",
        "version": 3
      },
      "pygments_lexer": "ipython3",
      "nbconvert_exporter": "python",
      "file_extension": ".py"
    },
    "kernelspec": {
      "name": "python3",
      "display_name": "Python 3.9.6 64-bit ('homebrew_tensorflow': conda)"
    },
    "interpreter": {
      "hash": "c9f67f3b94ae9cf5992b10656b763979450b7c87f6f5d4ea2b00a68e35379d64"
    },
    "colab": {
      "name": "Training.ipynb",
      "provenance": []
    },
    "accelerator": "GPU"
  },
  "cells": [
    {
      "cell_type": "code",
      "metadata": {
        "id": "73IQH9tpsi7z",
        "outputId": "ac5db123-5e05-4c21-858e-b2395d644948",
        "colab": {
          "base_uri": "https://localhost:8080/"
        }
      },
      "source": [
        "from google.colab import drive\n",
        "drive.mount('/content/drive')"
      ],
      "execution_count": 1,
      "outputs": [
        {
          "output_type": "stream",
          "text": [
            "Mounted at /content/drive\n"
          ],
          "name": "stdout"
        }
      ]
    },
    {
      "cell_type": "code",
      "metadata": {
        "id": "FVRKuz9AsgZ2"
      },
      "source": [
        "import tensorflow as tf \n",
        "import numpy as np\n",
        "import pandas as pd\n",
        "import matplotlib.pyplot as plt\n",
        "from tensorflow import keras \n",
        "from tensorflow.keras.preprocessing.image import ImageDataGenerator\n",
        "from tensorflow.keras import models\n"
      ],
      "execution_count": 5,
      "outputs": []
    },
    {
      "cell_type": "code",
      "metadata": {
        "id": "tddKTRAjsgZ3"
      },
      "source": [
        "import xml.etree.ElementTree as xet\n",
        "from glob import glob\n",
        "import os \n",
        "import cv2"
      ],
      "execution_count": 44,
      "outputs": []
    },
    {
      "cell_type": "code",
      "metadata": {
        "id": "IulgsLAGvBxg"
      },
      "source": [
        "path = glob('/content/drive/MyDrive/tensorflow/Car number plate detection /images/*.xml')"
      ],
      "execution_count": 8,
      "outputs": []
    },
    {
      "cell_type": "code",
      "metadata": {
        "id": "5Fg6mIDQvKta",
        "outputId": "4cb1fa3a-3251-425b-a207-4c7116ff06ca",
        "colab": {
          "base_uri": "https://localhost:8080/"
        }
      },
      "source": [
        "path[:6]"
      ],
      "execution_count": 43,
      "outputs": [
        {
          "output_type": "execute_result",
          "data": {
            "text/plain": [
              "['/content/drive/MyDrive/tensorflow/Car number plate detection /images/N1.xml',\n",
              " '/content/drive/MyDrive/tensorflow/Car number plate detection /images/N2.xml',\n",
              " '/content/drive/MyDrive/tensorflow/Car number plate detection /images/N3.xml',\n",
              " '/content/drive/MyDrive/tensorflow/Car number plate detection /images/N4.xml',\n",
              " '/content/drive/MyDrive/tensorflow/Car number plate detection /images/N5.xml',\n",
              " '/content/drive/MyDrive/tensorflow/Car number plate detection /images/N6.xml']"
            ]
          },
          "metadata": {},
          "execution_count": 43
        }
      ]
    },
    {
      "cell_type": "code",
      "metadata": {
        "id": "77PgPn8VvSy2"
      },
      "source": [
        "labels_dict = dict(filepath=[],xmin=[],xmax=[],ymin=[],ymax=[])\n",
        "for filename in path :\n",
        "  #filename = path[0]\n",
        "  info = xet.parse(filename)\n",
        "  root = info.getroot()\n",
        "  member_object = root.find('object')\n",
        "  labels_info = member_object.find('bndbox')\n",
        "  xmin = int(labels_info.find('xmin').text)\n",
        "  xmax = int(labels_info.find('xmax').text)\n",
        "  ymin = int(labels_info.find('ymin').text)\n",
        "  ymax = int(labels_info.find('ymax').text)\n",
        "  labels_dict['filepath'].append(filename)\n",
        "  labels_dict['xmin'].append(xmin)\n",
        "  labels_dict['xmax'].append(xmax)\n",
        "  labels_dict['ymin'].append(ymin)\n",
        "  labels_dict['ymax'].append(ymax)\n",
        "\n"
      ],
      "execution_count": 14,
      "outputs": []
    },
    {
      "cell_type": "code",
      "metadata": {
        "id": "bnWgdOIMwSOR",
        "outputId": "fb95b1f4-f843-44b0-85be-e01651099cf7",
        "colab": {
          "base_uri": "https://localhost:8080/",
          "height": 419
        }
      },
      "source": [
        "df = pd.DataFrame(labels_dict)\n",
        "df"
      ],
      "execution_count": 15,
      "outputs": [
        {
          "output_type": "execute_result",
          "data": {
            "text/html": [
              "<div>\n",
              "<style scoped>\n",
              "    .dataframe tbody tr th:only-of-type {\n",
              "        vertical-align: middle;\n",
              "    }\n",
              "\n",
              "    .dataframe tbody tr th {\n",
              "        vertical-align: top;\n",
              "    }\n",
              "\n",
              "    .dataframe thead th {\n",
              "        text-align: right;\n",
              "    }\n",
              "</style>\n",
              "<table border=\"1\" class=\"dataframe\">\n",
              "  <thead>\n",
              "    <tr style=\"text-align: right;\">\n",
              "      <th></th>\n",
              "      <th>filepath</th>\n",
              "      <th>xmin</th>\n",
              "      <th>xmax</th>\n",
              "      <th>ymin</th>\n",
              "      <th>ymax</th>\n",
              "    </tr>\n",
              "  </thead>\n",
              "  <tbody>\n",
              "    <tr>\n",
              "      <th>0</th>\n",
              "      <td>/content/drive/MyDrive/tensorflow/Car number p...</td>\n",
              "      <td>1093</td>\n",
              "      <td>1396</td>\n",
              "      <td>645</td>\n",
              "      <td>727</td>\n",
              "    </tr>\n",
              "    <tr>\n",
              "      <th>1</th>\n",
              "      <td>/content/drive/MyDrive/tensorflow/Car number p...</td>\n",
              "      <td>1804</td>\n",
              "      <td>2493</td>\n",
              "      <td>1734</td>\n",
              "      <td>1882</td>\n",
              "    </tr>\n",
              "    <tr>\n",
              "      <th>2</th>\n",
              "      <td>/content/drive/MyDrive/tensorflow/Car number p...</td>\n",
              "      <td>73</td>\n",
              "      <td>260</td>\n",
              "      <td>381</td>\n",
              "      <td>462</td>\n",
              "    </tr>\n",
              "    <tr>\n",
              "      <th>3</th>\n",
              "      <td>/content/drive/MyDrive/tensorflow/Car number p...</td>\n",
              "      <td>1326</td>\n",
              "      <td>1830</td>\n",
              "      <td>1464</td>\n",
              "      <td>1607</td>\n",
              "    </tr>\n",
              "    <tr>\n",
              "      <th>4</th>\n",
              "      <td>/content/drive/MyDrive/tensorflow/Car number p...</td>\n",
              "      <td>938</td>\n",
              "      <td>1173</td>\n",
              "      <td>709</td>\n",
              "      <td>762</td>\n",
              "    </tr>\n",
              "    <tr>\n",
              "      <th>...</th>\n",
              "      <td>...</td>\n",
              "      <td>...</td>\n",
              "      <td>...</td>\n",
              "      <td>...</td>\n",
              "      <td>...</td>\n",
              "    </tr>\n",
              "    <tr>\n",
              "      <th>220</th>\n",
              "      <td>/content/drive/MyDrive/tensorflow/Car number p...</td>\n",
              "      <td>335</td>\n",
              "      <td>452</td>\n",
              "      <td>313</td>\n",
              "      <td>343</td>\n",
              "    </tr>\n",
              "    <tr>\n",
              "      <th>221</th>\n",
              "      <td>/content/drive/MyDrive/tensorflow/Car number p...</td>\n",
              "      <td>192</td>\n",
              "      <td>364</td>\n",
              "      <td>279</td>\n",
              "      <td>319</td>\n",
              "    </tr>\n",
              "    <tr>\n",
              "      <th>222</th>\n",
              "      <td>/content/drive/MyDrive/tensorflow/Car number p...</td>\n",
              "      <td>23</td>\n",
              "      <td>160</td>\n",
              "      <td>261</td>\n",
              "      <td>321</td>\n",
              "    </tr>\n",
              "    <tr>\n",
              "      <th>223</th>\n",
              "      <td>/content/drive/MyDrive/tensorflow/Car number p...</td>\n",
              "      <td>641</td>\n",
              "      <td>886</td>\n",
              "      <td>518</td>\n",
              "      <td>578</td>\n",
              "    </tr>\n",
              "    <tr>\n",
              "      <th>224</th>\n",
              "      <td>/content/drive/MyDrive/tensorflow/Car number p...</td>\n",
              "      <td>288</td>\n",
              "      <td>429</td>\n",
              "      <td>248</td>\n",
              "      <td>281</td>\n",
              "    </tr>\n",
              "  </tbody>\n",
              "</table>\n",
              "<p>225 rows × 5 columns</p>\n",
              "</div>"
            ],
            "text/plain": [
              "                                              filepath  xmin  xmax  ymin  ymax\n",
              "0    /content/drive/MyDrive/tensorflow/Car number p...  1093  1396   645   727\n",
              "1    /content/drive/MyDrive/tensorflow/Car number p...  1804  2493  1734  1882\n",
              "2    /content/drive/MyDrive/tensorflow/Car number p...    73   260   381   462\n",
              "3    /content/drive/MyDrive/tensorflow/Car number p...  1326  1830  1464  1607\n",
              "4    /content/drive/MyDrive/tensorflow/Car number p...   938  1173   709   762\n",
              "..                                                 ...   ...   ...   ...   ...\n",
              "220  /content/drive/MyDrive/tensorflow/Car number p...   335   452   313   343\n",
              "221  /content/drive/MyDrive/tensorflow/Car number p...   192   364   279   319\n",
              "222  /content/drive/MyDrive/tensorflow/Car number p...    23   160   261   321\n",
              "223  /content/drive/MyDrive/tensorflow/Car number p...   641   886   518   578\n",
              "224  /content/drive/MyDrive/tensorflow/Car number p...   288   429   248   281\n",
              "\n",
              "[225 rows x 5 columns]"
            ]
          },
          "metadata": {},
          "execution_count": 15
        }
      ]
    },
    {
      "cell_type": "code",
      "metadata": {
        "id": "l8g7qMAwyGEQ"
      },
      "source": [
        "df.to_csv('/content/drive/MyDrive/tensorflow/Car number plate detection /labels.csv',index=False)"
      ],
      "execution_count": 16,
      "outputs": []
    },
    {
      "cell_type": "code",
      "metadata": {
        "id": "QwMsXl_Ey063",
        "outputId": "7d20bf66-28c8-4631-f717-7ada1ee2a4f5",
        "colab": {
          "base_uri": "https://localhost:8080/",
          "height": 204
        }
      },
      "source": [
        "df.head(\n",
        ")"
      ],
      "execution_count": 17,
      "outputs": [
        {
          "output_type": "execute_result",
          "data": {
            "text/html": [
              "<div>\n",
              "<style scoped>\n",
              "    .dataframe tbody tr th:only-of-type {\n",
              "        vertical-align: middle;\n",
              "    }\n",
              "\n",
              "    .dataframe tbody tr th {\n",
              "        vertical-align: top;\n",
              "    }\n",
              "\n",
              "    .dataframe thead th {\n",
              "        text-align: right;\n",
              "    }\n",
              "</style>\n",
              "<table border=\"1\" class=\"dataframe\">\n",
              "  <thead>\n",
              "    <tr style=\"text-align: right;\">\n",
              "      <th></th>\n",
              "      <th>filepath</th>\n",
              "      <th>xmin</th>\n",
              "      <th>xmax</th>\n",
              "      <th>ymin</th>\n",
              "      <th>ymax</th>\n",
              "    </tr>\n",
              "  </thead>\n",
              "  <tbody>\n",
              "    <tr>\n",
              "      <th>0</th>\n",
              "      <td>/content/drive/MyDrive/tensorflow/Car number p...</td>\n",
              "      <td>1093</td>\n",
              "      <td>1396</td>\n",
              "      <td>645</td>\n",
              "      <td>727</td>\n",
              "    </tr>\n",
              "    <tr>\n",
              "      <th>1</th>\n",
              "      <td>/content/drive/MyDrive/tensorflow/Car number p...</td>\n",
              "      <td>1804</td>\n",
              "      <td>2493</td>\n",
              "      <td>1734</td>\n",
              "      <td>1882</td>\n",
              "    </tr>\n",
              "    <tr>\n",
              "      <th>2</th>\n",
              "      <td>/content/drive/MyDrive/tensorflow/Car number p...</td>\n",
              "      <td>73</td>\n",
              "      <td>260</td>\n",
              "      <td>381</td>\n",
              "      <td>462</td>\n",
              "    </tr>\n",
              "    <tr>\n",
              "      <th>3</th>\n",
              "      <td>/content/drive/MyDrive/tensorflow/Car number p...</td>\n",
              "      <td>1326</td>\n",
              "      <td>1830</td>\n",
              "      <td>1464</td>\n",
              "      <td>1607</td>\n",
              "    </tr>\n",
              "    <tr>\n",
              "      <th>4</th>\n",
              "      <td>/content/drive/MyDrive/tensorflow/Car number p...</td>\n",
              "      <td>938</td>\n",
              "      <td>1173</td>\n",
              "      <td>709</td>\n",
              "      <td>762</td>\n",
              "    </tr>\n",
              "  </tbody>\n",
              "</table>\n",
              "</div>"
            ],
            "text/plain": [
              "                                            filepath  xmin  xmax  ymin  ymax\n",
              "0  /content/drive/MyDrive/tensorflow/Car number p...  1093  1396   645   727\n",
              "1  /content/drive/MyDrive/tensorflow/Car number p...  1804  2493  1734  1882\n",
              "2  /content/drive/MyDrive/tensorflow/Car number p...    73   260   381   462\n",
              "3  /content/drive/MyDrive/tensorflow/Car number p...  1326  1830  1464  1607\n",
              "4  /content/drive/MyDrive/tensorflow/Car number p...   938  1173   709   762"
            ]
          },
          "metadata": {},
          "execution_count": 17
        }
      ]
    },
    {
      "cell_type": "markdown",
      "metadata": {
        "id": "EPYfgJQ1zOMw"
      },
      "source": [
        ""
      ]
    },
    {
      "cell_type": "code",
      "metadata": {
        "id": "f92CTlaDz8AN",
        "outputId": "25af77e0-a088-4663-f3aa-b99d8cb1ddc4",
        "colab": {
          "base_uri": "https://localhost:8080/",
          "height": 37
        }
      },
      "source": [
        "filename = df['filepath'][0]\n",
        "filename "
      ],
      "execution_count": 32,
      "outputs": [
        {
          "output_type": "execute_result",
          "data": {
            "application/vnd.google.colaboratory.intrinsic+json": {
              "type": "string"
            },
            "text/plain": [
              "'/content/drive/MyDrive/tensorflow/Car number plate detection /images/N1.xml'"
            ]
          },
          "metadata": {},
          "execution_count": 32
        }
      ]
    },
    {
      "cell_type": "code",
      "metadata": {
        "id": "djKlmQfiy26W"
      },
      "source": [
        "def getFilename(filename):\n",
        "  filename_image = xet.parse(filename).getroot().find('filename').text\n",
        "  filepath_image = os.path.join('./images',filename_image)\n",
        "  return filepath_image"
      ],
      "execution_count": 35,
      "outputs": []
    },
    {
      "cell_type": "code",
      "metadata": {
        "id": "M2-EyluW0Ee2",
        "outputId": "77837b68-f1e2-49ee-ac88-f77fae5619e7",
        "colab": {
          "base_uri": "https://localhost:8080/",
          "height": 37
        }
      },
      "source": [
        "getFilename(filename)\n"
      ],
      "execution_count": 36,
      "outputs": [
        {
          "output_type": "execute_result",
          "data": {
            "application/vnd.google.colaboratory.intrinsic+json": {
              "type": "string"
            },
            "text/plain": [
              "'./images/N1.jpeg'"
            ]
          },
          "metadata": {},
          "execution_count": 36
        }
      ]
    },
    {
      "cell_type": "code",
      "metadata": {
        "id": "fILTC4pj0ZE5"
      },
      "source": [
        "image_path = list(df['filepath'].apply(getFilename))"
      ],
      "execution_count": 39,
      "outputs": []
    },
    {
      "cell_type": "code",
      "metadata": {
        "id": "LtCgP6s11XB4",
        "outputId": "537bc799-2192-4772-8111-3b51232d8709",
        "colab": {
          "base_uri": "https://localhost:8080/"
        }
      },
      "source": [
        "image_path[:5]"
      ],
      "execution_count": 42,
      "outputs": [
        {
          "output_type": "execute_result",
          "data": {
            "text/plain": [
              "['./images/N1.jpeg',\n",
              " './images/N2.jpeg',\n",
              " './images/N3.jpeg',\n",
              " './images/N4.jpeg',\n",
              " './images/N5.jpeg']"
            ]
          },
          "metadata": {},
          "execution_count": 42
        }
      ]
    },
    {
      "cell_type": "code",
      "metadata": {
        "id": "lFhX2_fZ10tH",
        "outputId": "374f8cbe-cee8-44c6-9794-aa6472d76ef6",
        "colab": {
          "base_uri": "https://localhost:8080/",
          "height": 37
        }
      },
      "source": [
        "file_path = image_path[0]\n",
        "file_path"
      ],
      "execution_count": 45,
      "outputs": [
        {
          "output_type": "execute_result",
          "data": {
            "application/vnd.google.colaboratory.intrinsic+json": {
              "type": "string"
            },
            "text/plain": [
              "'./images/N1.jpeg'"
            ]
          },
          "metadata": {},
          "execution_count": 45
        }
      ]
    },
    {
      "cell_type": "code",
      "metadata": {
        "id": "sLbptXmS2MHW"
      },
      "source": [
        "from google.colab.patches import cv2_imshow"
      ],
      "execution_count": 47,
      "outputs": []
    },
    {
      "cell_type": "code",
      "metadata": {
        "id": "4lTXVbl01mmq",
        "outputId": "82bad344-fdc1-49b3-a370-c1adc202993c",
        "colab": {
          "base_uri": "https://localhost:8080/",
          "height": 351
        }
      },
      "source": [
        "\n",
        "\n",
        "from google.colab.patches import cv2_imshow\n",
        "cv2_imshow(img)\n",
        "\n"
      ],
      "execution_count": 56,
      "outputs": [
        {
          "output_type": "error",
          "ename": "AttributeError",
          "evalue": "ignored",
          "traceback": [
            "\u001b[0;31m---------------------------------------------------------------------------\u001b[0m",
            "\u001b[0;31mAttributeError\u001b[0m                            Traceback (most recent call last)",
            "\u001b[0;32m<ipython-input-56-fc0c06e42687>\u001b[0m in \u001b[0;36m<module>\u001b[0;34m()\u001b[0m\n\u001b[1;32m      2\u001b[0m \u001b[0mimg\u001b[0m \u001b[0;34m=\u001b[0m \u001b[0mcv2\u001b[0m\u001b[0;34m.\u001b[0m\u001b[0mimread\u001b[0m\u001b[0;34m(\u001b[0m\u001b[0mfile_path\u001b[0m\u001b[0;34m)\u001b[0m\u001b[0;34m\u001b[0m\u001b[0;34m\u001b[0m\u001b[0m\n\u001b[1;32m      3\u001b[0m \u001b[0;32mfrom\u001b[0m \u001b[0mgoogle\u001b[0m\u001b[0;34m.\u001b[0m\u001b[0mcolab\u001b[0m\u001b[0;34m.\u001b[0m\u001b[0mpatches\u001b[0m \u001b[0;32mimport\u001b[0m \u001b[0mcv2_imshow\u001b[0m\u001b[0;34m\u001b[0m\u001b[0;34m\u001b[0m\u001b[0m\n\u001b[0;32m----> 4\u001b[0;31m \u001b[0mcv2_imshow\u001b[0m\u001b[0;34m(\u001b[0m\u001b[0mimg\u001b[0m\u001b[0;34m)\u001b[0m\u001b[0;34m\u001b[0m\u001b[0;34m\u001b[0m\u001b[0m\n\u001b[0m\u001b[1;32m      5\u001b[0m \u001b[0;34m\u001b[0m\u001b[0m\n",
            "\u001b[0;32m/usr/local/lib/python3.7/dist-packages/google/colab/patches/__init__.py\u001b[0m in \u001b[0;36mcv2_imshow\u001b[0;34m(a)\u001b[0m\n\u001b[1;32m     20\u001b[0m       \u001b[0mimage\u001b[0m\u001b[0;34m.\u001b[0m\u001b[0;34m\u001b[0m\u001b[0;34m\u001b[0m\u001b[0m\n\u001b[1;32m     21\u001b[0m   \"\"\"\n\u001b[0;32m---> 22\u001b[0;31m   \u001b[0ma\u001b[0m \u001b[0;34m=\u001b[0m \u001b[0ma\u001b[0m\u001b[0;34m.\u001b[0m\u001b[0mclip\u001b[0m\u001b[0;34m(\u001b[0m\u001b[0;36m0\u001b[0m\u001b[0;34m,\u001b[0m \u001b[0;36m255\u001b[0m\u001b[0;34m)\u001b[0m\u001b[0;34m.\u001b[0m\u001b[0mastype\u001b[0m\u001b[0;34m(\u001b[0m\u001b[0;34m'uint8'\u001b[0m\u001b[0;34m)\u001b[0m\u001b[0;34m\u001b[0m\u001b[0;34m\u001b[0m\u001b[0m\n\u001b[0m\u001b[1;32m     23\u001b[0m   \u001b[0;31m# cv2 stores colors as BGR; convert to RGB\u001b[0m\u001b[0;34m\u001b[0m\u001b[0;34m\u001b[0m\u001b[0;34m\u001b[0m\u001b[0m\n\u001b[1;32m     24\u001b[0m   \u001b[0;32mif\u001b[0m \u001b[0ma\u001b[0m\u001b[0;34m.\u001b[0m\u001b[0mndim\u001b[0m \u001b[0;34m==\u001b[0m \u001b[0;36m3\u001b[0m\u001b[0;34m:\u001b[0m\u001b[0;34m\u001b[0m\u001b[0;34m\u001b[0m\u001b[0m\n",
            "\u001b[0;31mAttributeError\u001b[0m: 'NoneType' object has no attribute 'clip'"
          ]
        }
      ]
    }
  ]
}