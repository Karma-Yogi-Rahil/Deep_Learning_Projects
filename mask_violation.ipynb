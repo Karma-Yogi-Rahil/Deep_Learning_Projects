{
  "nbformat": 4,
  "nbformat_minor": 0,
  "metadata": {
    "colab": {
      "name": "mask violation.ipynb",
      "provenance": [],
      "authorship_tag": "ABX9TyO4fN6WraLzFL09Wqbr/mXl",
      "include_colab_link": true
    },
    "kernelspec": {
      "name": "python3",
      "display_name": "Python 3"
    },
    "language_info": {
      "name": "python"
    }
  },
  "cells": [
    {
      "cell_type": "markdown",
      "metadata": {
        "id": "view-in-github",
        "colab_type": "text"
      },
      "source": [
        "<a href=\"https://colab.research.google.com/github/from-iqwerty-import-IQ/Deep_Learning_Projects/blob/main/mask_violation.ipynb\" target=\"_parent\"><img src=\"https://colab.research.google.com/assets/colab-badge.svg\" alt=\"Open In Colab\"/></a>"
      ]
    },
    {
      "cell_type": "code",
      "metadata": {
        "colab": {
          "base_uri": "https://localhost:8080/"
        },
        "id": "vm-kwhvOT7qP",
        "outputId": "e943d97d-8c0a-4c7e-8f5a-8854c78b762a"
      },
      "source": [
        "from google.colab import drive\n",
        "drive.mount('/content/drive')"
      ],
      "execution_count": 3,
      "outputs": [
        {
          "output_type": "stream",
          "name": "stdout",
          "text": [
            "Mounted at /content/drive\n"
          ]
        }
      ]
    },
    {
      "cell_type": "code",
      "metadata": {
        "id": "gL36KwAWUXWQ"
      },
      "source": [
        "import tensorflow as tf\n",
        "from tensorflow import keras\n",
        "from tensorflow.keras.preprocessing.image import ImageDataGenerator\n",
        "import matplotlib.pyplot as plt\n",
        "import numpy as np\n",
        "import pandas as pd\n",
        "import os\n",
        "\n",
        "import matplotlib.pyplot as plt\n",
        "import matplotlib.image as mpimg\n",
        "from tensorflow.keras import models\n",
        "from tensorflow.keras import layers\n",
        "from tensorflow.keras.applications import ResNet50"
      ],
      "execution_count": 7,
      "outputs": []
    },
    {
      "cell_type": "code",
      "metadata": {
        "id": "4zqxvTdHUZu3"
      },
      "source": [
        "training_dir = '/content/drive/Othercomputers/My Computer/complete dataset/train'\n",
        "validate_dir = '/content/drive/Othercomputers/My Computer/complete dataset/validate'"
      ],
      "execution_count": 9,
      "outputs": []
    },
    {
      "cell_type": "code",
      "metadata": {
        "id": "iwqRNR_aU4eF"
      },
      "source": [
        "training_with_mask_dir = os.path.join(training_dir,'with mask')\n",
        "training_without_mask_dir = os.path.join(training_dir,'without mask')\n",
        "training_improper_mask_dir = os.path.join(training_dir,'improper mask')\n",
        "\n",
        "test_with_mask_dir = os.path.join(validate_dir,'with mask')\n",
        "test_without_mask_dir = os.path.join(validate_dir,'without mask')\n",
        "test_improper_mask_dir = os.path.join(validate_dir,'Improper mask')"
      ],
      "execution_count": 13,
      "outputs": []
    },
    {
      "cell_type": "code",
      "metadata": {
        "colab": {
          "base_uri": "https://localhost:8080/"
        },
        "id": "-Z54_Bm8WNwH",
        "outputId": "f4796b12-95b6-41d5-eb54-6fa2bf63a9ac"
      },
      "source": [
        "print('Total training image for benign are :',len(os.listdir(test_with_mask_dir)))\n",
        "print('Total training image for malignant are :',len(os.listdir(test_without_mask_dir)))\n",
        "print('Total training image for malignant are :',len(os.listdir(test_improper_mask_dir)))\n"
      ],
      "execution_count": 14,
      "outputs": [
        {
          "output_type": "stream",
          "name": "stdout",
          "text": [
            "Total training image for benign are : 0\n",
            "Total training image for malignant are : 1796\n",
            "Total training image for malignant are : 2062\n"
          ]
        }
      ]
    },
    {
      "cell_type": "code",
      "metadata": {
        "id": "BMcfpYOVXeKE"
      },
      "source": [
        ""
      ],
      "execution_count": null,
      "outputs": []
    },
    {
      "cell_type": "code",
      "metadata": {
        "id": "zsQYcg5uXeeL"
      },
      "source": [
        ""
      ],
      "execution_count": null,
      "outputs": []
    },
    {
      "cell_type": "code",
      "metadata": {
        "id": "v8gHVrRmXeg9"
      },
      "source": [
        ""
      ],
      "execution_count": null,
      "outputs": []
    },
    {
      "cell_type": "code",
      "metadata": {
        "id": "U-9cmQHRXekA"
      },
      "source": [
        "train_datagen = ImageDataGenerator(rescale=1./255,\n",
        "                                   rotation_range = 40,\n",
        "                                   width_shift_range=0.2,\n",
        "                                   height_shift_range=0.2,\n",
        "                                   shear_range=0.2,\n",
        "                                   zoom_range = 0.2,\n",
        "                                   horizontal_flip=True)\n",
        "test_datagen = ImageDataGenerator(rescale=1./255)"
      ],
      "execution_count": null,
      "outputs": []
    },
    {
      "cell_type": "code",
      "metadata": {
        "id": "lLdV0Yo8XjYD"
      },
      "source": [
        "train_genrator = train_datagen.flow_from_directory(\n",
        "    training_dir,\n",
        "    target_size = (224,224),\n",
        "    batch_size = 20,\n",
        "    class_mode = 'binary'\n",
        "\n",
        ")\n",
        "\n",
        "test_genrator = test_datagen.flow_from_directory(\n",
        "    test_dir,\n",
        "    target_size = (224,224),\n",
        "    batch_size = 20,\n",
        "    class_mode = 'binary'\n",
        ")"
      ],
      "execution_count": null,
      "outputs": []
    },
    {
      "cell_type": "code",
      "metadata": {
        "id": "1BGpilxPXmNK"
      },
      "source": [
        "\n",
        "convo_base = ResNet50(weights='imagenet',\n",
        "                   include_top=False,\n",
        "                   input_shape=(224,224,3),\n",
        "                   classes = 3\n",
        "                   )"
      ],
      "execution_count": null,
      "outputs": []
    },
    {
      "cell_type": "code",
      "metadata": {
        "id": "mWqnUqSoXqZ3"
      },
      "source": [
        "\n",
        "model = models.Sequential()"
      ],
      "execution_count": null,
      "outputs": []
    },
    {
      "cell_type": "code",
      "metadata": {
        "id": "sfmqh1rwXtrB"
      },
      "source": [
        "model.add(convo_base)\n",
        "\n",
        "model.add(layers.Flatten())\n",
        "model.add(layers.Dropout(0.5))\n",
        "\n",
        "model.add(layers.Dense(512,activation='relu'))\n",
        "model.add(layers.Dense(512,activation='relu'))\n",
        "model.add(layers.Dense(3,activation='softmax'))"
      ],
      "execution_count": null,
      "outputs": []
    },
    {
      "cell_type": "code",
      "metadata": {
        "id": "_ckMnrSqXxn2"
      },
      "source": [
        "model.summary()\n"
      ],
      "execution_count": null,
      "outputs": []
    },
    {
      "cell_type": "code",
      "metadata": {
        "id": "Go9uxBWjXxv3"
      },
      "source": [
        "model.compile(optimizer=tf.keras.optimizers.Adam(),\n",
        "              metrics = ['acc'],\n",
        "               loss=tf.keras.losses.BinaryCrossentropy())\n"
      ],
      "execution_count": null,
      "outputs": []
    },
    {
      "cell_type": "code",
      "metadata": {
        "id": "tfU8auVGXxyo"
      },
      "source": [
        "check_point = tf.keras.callbacks.ModelCheckpoint(filepath=\"/content/transfer_l_mode.h5\",\n",
        "                                         monitor=\"val_acc\",\n",
        "                                         mode=\"max\",\n",
        "                                         save_best_only=True,)"
      ],
      "execution_count": null,
      "outputs": []
    },
    {
      "cell_type": "code",
      "metadata": {
        "id": "Wz-UE4JyYGqh"
      },
      "source": [
        "trained_model = model.fit(\n",
        "    train_genrator,\n",
        "    validation_data= test_genrator,\n",
        "    epochs = 10,\n",
        "    steps_per_epoch=131,\n",
        "    #validation_steps=33\n",
        "    callbacks = [check_point]\n",
        "    )"
      ],
      "execution_count": null,
      "outputs": []
    },
    {
      "cell_type": "code",
      "metadata": {
        "id": "ACNMTuVOYcHq"
      },
      "source": [
        "pd.DataFrame(trained_model.history).plot()"
      ],
      "execution_count": null,
      "outputs": []
    },
    {
      "cell_type": "code",
      "metadata": {
        "id": "QvCd6nI_Ya3Q"
      },
      "source": [
        "model.evaluate(test_genrator)"
      ],
      "execution_count": null,
      "outputs": []
    },
    {
      "cell_type": "code",
      "metadata": {
        "id": "9x8eSObzYa-X"
      },
      "source": [
        ""
      ],
      "execution_count": null,
      "outputs": []
    },
    {
      "cell_type": "code",
      "metadata": {
        "id": "cC9kKFHpYbBq"
      },
      "source": [
        ""
      ],
      "execution_count": null,
      "outputs": []
    }
  ]
}