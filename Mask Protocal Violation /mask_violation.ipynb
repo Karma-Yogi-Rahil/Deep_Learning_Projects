{
  "nbformat": 4,
  "nbformat_minor": 0,
  "metadata": {
    "colab": {
      "name": "mask violation.ipynb",
      "provenance": [],
      "authorship_tag": "ABX9TyPdkn1kl1sk7hHcHif2krDe",
      "include_colab_link": true
    },
    "kernelspec": {
      "name": "python3",
      "display_name": "Python 3"
    },
    "language_info": {
      "name": "python"
    },
    "accelerator": "GPU"
  },
  "cells": [
    {
      "cell_type": "markdown",
      "metadata": {
        "id": "view-in-github",
        "colab_type": "text"
      },
      "source": [
        "<a href=\"https://colab.research.google.com/github/from-iqwerty-import-IQ/Deep_Learning_Projects/blob/main/Mask%20Protocal%20Violation%20/mask_violation.ipynb\" target=\"_parent\"><img src=\"https://colab.research.google.com/assets/colab-badge.svg\" alt=\"Open In Colab\"/></a>"
      ]
    },
    {
      "cell_type": "code",
      "source": [
        "import os \n",
        "os.environ['KAGGLE_CONFIG_DIR'] = '/content'\n"
      ],
      "metadata": {
        "id": "c1xir4YRSYlz"
      },
      "execution_count": 1,
      "outputs": []
    },
    {
      "cell_type": "code",
      "source": [
        "! kaggle datasets download -d alfaromeo676/face-mask-dataset\n"
      ],
      "metadata": {
        "colab": {
          "base_uri": "https://localhost:8080/"
        },
        "id": "4PEFaxTjSoE0",
        "outputId": "687c3405-1c01-44ad-f1d2-c1c250ed1bd4"
      },
      "execution_count": 2,
      "outputs": [
        {
          "output_type": "stream",
          "name": "stdout",
          "text": [
            "Downloading face-mask-dataset.zip to /content\n",
            " 99% 1.64G/1.66G [00:10<00:00, 151MB/s]\n",
            "100% 1.66G/1.66G [00:10<00:00, 170MB/s]\n"
          ]
        }
      ]
    },
    {
      "cell_type": "code",
      "source": [
        "%%capture\n",
        "!unzip \\*.zip && rm *.zip &> /dev/null"
      ],
      "metadata": {
        "id": "NeKRD_GtS4qA"
      },
      "execution_count": 3,
      "outputs": []
    },
    {
      "cell_type": "code",
      "metadata": {
        "id": "gL36KwAWUXWQ"
      },
      "source": [
        "import tensorflow as tf\n",
        "from tensorflow import keras\n",
        "from tensorflow.keras.preprocessing.image import ImageDataGenerator\n",
        "import matplotlib.pyplot as plt\n",
        "import numpy as np\n",
        "import pandas as pd\n",
        "import os\n",
        "\n",
        "import matplotlib.pyplot as plt\n",
        "import matplotlib.image as mpimg\n",
        "from tensorflow.keras import models\n",
        "from tensorflow.keras import layers\n",
        "from tensorflow.keras.applications import ResNet50\n",
        "from sklearn.preprocessing import LabelBinarizer"
      ],
      "execution_count": 6,
      "outputs": []
    },
    {
      "cell_type": "code",
      "metadata": {
        "id": "4zqxvTdHUZu3"
      },
      "source": [
        "training_dir = '/content/Mask dataset/train'\n",
        "test_dir = '/content/Mask dataset/test'"
      ],
      "execution_count": 7,
      "outputs": []
    },
    {
      "cell_type": "code",
      "metadata": {
        "id": "iwqRNR_aU4eF"
      },
      "source": [
        ""
      ],
      "execution_count": null,
      "outputs": []
    },
    {
      "cell_type": "markdown",
      "source": [
        ""
      ],
      "metadata": {
        "id": "BFh2H6sRSXIR"
      }
    },
    {
      "cell_type": "code",
      "metadata": {
        "id": "U-9cmQHRXekA"
      },
      "source": [
        "train_datagen = ImageDataGenerator(rescale=1./255,\n",
        "                                   rotation_range = 40,\n",
        "                                   width_shift_range=0.2,\n",
        "                                   height_shift_range=0.2,\n",
        "                                   shear_range=0.2,\n",
        "                                   zoom_range = 0.2,\n",
        "                                   horizontal_flip=True,\n",
        "                                   validation_split = 0.2)"
      ],
      "execution_count": 32,
      "outputs": []
    },
    {
      "cell_type": "code",
      "metadata": {
        "id": "lLdV0Yo8XjYD",
        "outputId": "a2b83fbe-c251-4f91-8798-0402766bb8ab",
        "colab": {
          "base_uri": "https://localhost:8080/"
        }
      },
      "source": [
        "train_genrator = train_datagen.flow_from_directory(\n",
        "    training_dir,\n",
        "    target_size = (128,128),\n",
        "    batch_size = 64,\n",
        "    class_mode = 'categorical',\n",
        "    subset='training',\n",
        "    \n",
        "\n",
        ")\n",
        "\n",
        "validate_genrator = train_datagen.flow_from_directory(\n",
        "    training_dir,\n",
        "    target_size = (128,128),\n",
        "    batch_size = 64,\n",
        "    class_mode = 'categorical',\n",
        "    subset='validation',\n",
        "    \n",
        ")"
      ],
      "execution_count": 33,
      "outputs": [
        {
          "output_type": "stream",
          "name": "stdout",
          "text": [
            "Found 7188 images belonging to 3 classes.\n",
            "Found 1794 images belonging to 3 classes.\n"
          ]
        }
      ]
    },
    {
      "cell_type": "code",
      "source": [
        "model = models.Sequential()\n",
        "\n",
        "model.add(layers.Conv2D(64,(3,3),input_shape=(128,128,3),activation='relu'))\n",
        "model.add(layers.MaxPool2D(2,2))\n",
        "\n",
        "model.add(layers.Conv2D(64,(3,3),activation='relu'))\n",
        "model.add(layers.MaxPool2D(2,2))\n",
        "\n",
        "model.add(layers.Conv2D(128,(3,3),activation='relu'))\n",
        "model.add(layers.MaxPool2D(2,2))\n",
        "\n",
        "model.add(layers.Conv2D(512,(3,3),activation='relu'))\n",
        "model.add(layers.MaxPool2D(2,2))\n",
        "\n",
        "model.add(layers.Flatten())\n",
        "model.add(layers.Dropout(0.3))\n",
        "\n",
        "#model.add(layers.Dense(512,activation='relu'))\n",
        "model.add(layers.Dense(512,activation='relu'))\n",
        "model.add(layers.Dense(3,activation='softmax'))\n",
        "model.summary()"
      ],
      "metadata": {
        "colab": {
          "base_uri": "https://localhost:8080/"
        },
        "id": "RXxllDonqesm",
        "outputId": "e8a400b8-36d9-4174-8762-c5be92f805ca"
      },
      "execution_count": 34,
      "outputs": [
        {
          "output_type": "stream",
          "name": "stdout",
          "text": [
            "Model: \"sequential_3\"\n",
            "_________________________________________________________________\n",
            " Layer (type)                Output Shape              Param #   \n",
            "=================================================================\n",
            " conv2d_12 (Conv2D)          (None, 126, 126, 64)      1792      \n",
            "                                                                 \n",
            " max_pooling2d_12 (MaxPoolin  (None, 63, 63, 64)       0         \n",
            " g2D)                                                            \n",
            "                                                                 \n",
            " conv2d_13 (Conv2D)          (None, 61, 61, 64)        36928     \n",
            "                                                                 \n",
            " max_pooling2d_13 (MaxPoolin  (None, 30, 30, 64)       0         \n",
            " g2D)                                                            \n",
            "                                                                 \n",
            " conv2d_14 (Conv2D)          (None, 28, 28, 128)       73856     \n",
            "                                                                 \n",
            " max_pooling2d_14 (MaxPoolin  (None, 14, 14, 128)      0         \n",
            " g2D)                                                            \n",
            "                                                                 \n",
            " conv2d_15 (Conv2D)          (None, 12, 12, 512)       590336    \n",
            "                                                                 \n",
            " max_pooling2d_15 (MaxPoolin  (None, 6, 6, 512)        0         \n",
            " g2D)                                                            \n",
            "                                                                 \n",
            " flatten_3 (Flatten)         (None, 18432)             0         \n",
            "                                                                 \n",
            " dropout_3 (Dropout)         (None, 18432)             0         \n",
            "                                                                 \n",
            " dense_6 (Dense)             (None, 512)               9437696   \n",
            "                                                                 \n",
            " dense_7 (Dense)             (None, 3)                 1539      \n",
            "                                                                 \n",
            "=================================================================\n",
            "Total params: 10,142,147\n",
            "Trainable params: 10,142,147\n",
            "Non-trainable params: 0\n",
            "_________________________________________________________________\n"
          ]
        }
      ]
    },
    {
      "cell_type": "code",
      "metadata": {
        "id": "Go9uxBWjXxv3"
      },
      "source": [
        "model.compile(optimizer=tf.keras.optimizers.Adam(learning_rate = 0.001),\n",
        "              metrics = ['acc'],\n",
        "               loss=tf.keras.losses.CategoricalCrossentropy())\n"
      ],
      "execution_count": 35,
      "outputs": []
    },
    {
      "cell_type": "code",
      "metadata": {
        "id": "tfU8auVGXxyo"
      },
      "source": [
        "check_point = tf.keras.callbacks.ModelCheckpoint(filepath=\"/content/transfer_l_mode.h5\",\n",
        "                                         monitor=\"val_acc\",\n",
        "                                         mode=\"max\",\n",
        "                                         save_best_only=True,)"
      ],
      "execution_count": 21,
      "outputs": []
    },
    {
      "cell_type": "code",
      "metadata": {
        "id": "Wz-UE4JyYGqh",
        "outputId": "5f468ec5-c7e2-4824-e2e6-7315defb704b",
        "colab": {
          "base_uri": "https://localhost:8080/"
        }
      },
      "source": [
        "trained_model = model.fit(\n",
        "    train_genrator,\n",
        "    validation_data= validate_genrator,\n",
        "    epochs = 10,\n",
        "    #steps_per_epoch=100,\n",
        "    #validation_steps=33,\n",
        "    #callbacks = [check_point]\n",
        "    )"
      ],
      "execution_count": 36,
      "outputs": [
        {
          "output_type": "stream",
          "name": "stdout",
          "text": [
            "Epoch 1/10\n",
            "113/113 [==============================] - 79s 694ms/step - loss: 0.4588 - acc: 0.8116 - val_loss: 0.1979 - val_acc: 0.9298\n",
            "Epoch 2/10\n",
            "113/113 [==============================] - 76s 677ms/step - loss: 0.1889 - acc: 0.9354 - val_loss: 0.1331 - val_acc: 0.9576\n",
            "Epoch 3/10\n",
            "113/113 [==============================] - 75s 662ms/step - loss: 0.1670 - acc: 0.9392 - val_loss: 0.1400 - val_acc: 0.9493\n",
            "Epoch 4/10\n",
            "113/113 [==============================] - 75s 663ms/step - loss: 0.1472 - acc: 0.9494 - val_loss: 0.1551 - val_acc: 0.9443\n",
            "Epoch 5/10\n",
            "113/113 [==============================] - 75s 665ms/step - loss: 0.1262 - acc: 0.9559 - val_loss: 0.1287 - val_acc: 0.9593\n",
            "Epoch 6/10\n",
            "113/113 [==============================] - 76s 669ms/step - loss: 0.1164 - acc: 0.9609 - val_loss: 0.0843 - val_acc: 0.9716\n",
            "Epoch 7/10\n",
            "113/113 [==============================] - 75s 664ms/step - loss: 0.1218 - acc: 0.9573 - val_loss: 0.0835 - val_acc: 0.9749\n",
            "Epoch 8/10\n",
            "113/113 [==============================] - 75s 667ms/step - loss: 0.1249 - acc: 0.9580 - val_loss: 0.0881 - val_acc: 0.9732\n",
            "Epoch 9/10\n",
            "113/113 [==============================] - 76s 672ms/step - loss: 0.1045 - acc: 0.9651 - val_loss: 0.1019 - val_acc: 0.9677\n",
            "Epoch 10/10\n",
            "113/113 [==============================] - 76s 671ms/step - loss: 0.0904 - acc: 0.9672 - val_loss: 0.0860 - val_acc: 0.9688\n"
          ]
        }
      ]
    },
    {
      "cell_type": "code",
      "source": [
        "plt.plot(trained_model.history['acc'])\n",
        "plt.plot(trained_model.history['val_acc'])\n",
        "plt.title('model accuracy')\n",
        "plt.ylabel('accuracy')\n",
        "plt.xlabel('epoch')\n",
        "plt.legend(['Train', 'Validation'], loc='upper left')\n",
        "plt.show()\n",
        "# summarize history for loss\n",
        "plt.plot(trained_model.history['loss'])\n",
        "plt.plot(trained_model.history['val_loss'])\n",
        "plt.title('model loss')\n",
        "plt.ylabel('loss')\n",
        "plt.xlabel('epoch')\n",
        "plt.legend(['Train', 'Validation'], loc='upper left')\n",
        "plt.show()"
      ],
      "metadata": {
        "colab": {
          "base_uri": "https://localhost:8080/",
          "height": 573
        },
        "id": "NCzuizk5YIBN",
        "outputId": "cf6df71a-9e39-4fbb-df9c-bea5cf39f10a"
      },
      "execution_count": 37,
      "outputs": [
        {
          "output_type": "display_data",
          "data": {
            "image/png": "[encoded data removed]",
            "text/plain": [
              "<Figure size 432x288 with 1 Axes>"
            ]
          },
          "metadata": {
            "needs_background": "light"
          }
        },
        {
          "output_type": "display_data",
          "data": {
            "image/png": "[encoded data removed]",
            "text/plain": [
              "<Figure size 432x288 with 1 Axes>"
            ]
          },
          "metadata": {
            "needs_background": "light"
          }
        }
      ]
    },
    {
      "cell_type": "code",
      "source": [
        "model.evaluate(validate_genrator)"
      ],
      "metadata": {
        "id": "FhW5s36jgCwd",
        "outputId": "72fcaf98-7e86-4794-8bb6-440f71e88608",
        "colab": {
          "base_uri": "https://localhost:8080/"
        }
      },
      "execution_count": 38,
      "outputs": [
        {
          "output_type": "stream",
          "name": "stdout",
          "text": [
            "29/29 [==============================] - 15s 514ms/step - loss: 0.0891 - acc: 0.9688\n"
          ]
        },
        {
          "output_type": "execute_result",
          "data": {
            "text/plain": [
              "[0.08909004926681519, 0.9687848091125488]"
            ]
          },
          "metadata": {},
          "execution_count": 38
        }
      ]
    },
    {
      "cell_type": "code",
      "source": [
        ""
      ],
      "metadata": {
        "id": "qkIQzSI63xcv"
      },
      "execution_count": null,
      "outputs": []
    },
    {
      "cell_type": "markdown",
      "source": [
        "# Unknown data "
      ],
      "metadata": {
        "id": "CMmVVujw3ya7"
      }
    },
    {
      "cell_type": "code",
      "source": [
        "test_datagen = ImageDataGenerator(rescale=1./255)"
      ],
      "metadata": {
        "id": "u6XYAweqyaN5"
      },
      "execution_count": 39,
      "outputs": []
    },
    {
      "cell_type": "code",
      "source": [
        "test_genrator = test_datagen.flow_from_directory(\n",
        "    test_dir,\n",
        "    target_size = (128,128),\n",
        "    batch_size = 20,\n",
        "    class_mode = 'categorical',\n",
        "    #subset='validation',\n",
        "    \n",
        ")"
      ],
      "metadata": {
        "id": "UczSYSwYgCpD",
        "outputId": "af15a737-90d1-4b04-eaa9-040fbd9b5bf5",
        "colab": {
          "base_uri": "https://localhost:8080/"
        }
      },
      "execution_count": 40,
      "outputs": [
        {
          "output_type": "stream",
          "name": "stdout",
          "text": [
            "Found 1087 images belonging to 3 classes.\n"
          ]
        }
      ]
    },
    {
      "cell_type": "code",
      "metadata": {
        "id": "QvCd6nI_Ya3Q",
        "outputId": "9c4993f0-28a8-40b0-ecf5-aec4c3a496c3",
        "colab": {
          "base_uri": "https://localhost:8080/"
        }
      },
      "source": [
        "model.evaluate(test_genrator)"
      ],
      "execution_count": 41,
      "outputs": [
        {
          "output_type": "stream",
          "name": "stdout",
          "text": [
            "55/55 [==============================] - 26s 469ms/step - loss: 1.1244 - acc: 0.7249\n"
          ]
        },
        {
          "output_type": "execute_result",
          "data": {
            "text/plain": [
              "[1.1243897676467896, 0.724931001663208]"
            ]
          },
          "metadata": {},
          "execution_count": 41
        }
      ]
    },
    {
      "cell_type": "code",
      "source": [
        ""
      ],
      "metadata": {
        "id": "ozQ2LuHJzJe8"
      },
      "execution_count": null,
      "outputs": []
    },
    {
      "cell_type": "code",
      "source": [
        ""
      ],
      "metadata": {
        "id": "CEgh1qS5zJiB"
      },
      "execution_count": null,
      "outputs": []
    },
    {
      "cell_type": "code",
      "source": [
        ""
      ],
      "metadata": {
        "id": "aE2d5UMozJmF"
      },
      "execution_count": null,
      "outputs": []
    },
    {
      "cell_type": "code",
      "source": [
        ""
      ],
      "metadata": {
        "id": "S92Qmop9zJo8"
      },
      "execution_count": null,
      "outputs": []
    },
    {
      "cell_type": "code",
      "source": [
        ""
      ],
      "metadata": {
        "id": "sSvdHoB5zJrq"
      },
      "execution_count": null,
      "outputs": []
    },
    {
      "cell_type": "code",
      "source": [
        ""
      ],
      "metadata": {
        "id": "QHmqUu4mzJt8"
      },
      "execution_count": null,
      "outputs": []
    },
    {
      "cell_type": "code",
      "source": [
        ""
      ],
      "metadata": {
        "id": "sAQumK7HzJwx"
      },
      "execution_count": null,
      "outputs": []
    },
    {
      "cell_type": "code",
      "metadata": {
        "id": "9x8eSObzYa-X"
      },
      "source": [
        "model.save(\"/content/mask_detection_open.h5\")"
      ],
      "execution_count": 52,
      "outputs": []
    },
    {
      "cell_type": "code",
      "metadata": {
        "id": "cC9kKFHpYbBq",
        "outputId": "bd14aa67-142c-4681-c492-176a3cdf7aac",
        "colab": {
          "base_uri": "https://localhost:8080/"
        }
      },
      "source": [
        "!wget 'https://i.mmo.cm/is/image/mmoimg/mw-product-zoom/mephisto-half-mask-black--mw-117541-2.jpg'"
      ],
      "execution_count": 53,
      "outputs": [
        {
          "output_type": "stream",
          "name": "stdout",
          "text": [
            "--2021-12-29 06:44:07--  https://i.mmo.cm/is/image/mmoimg/mw-product-zoom/mephisto-half-mask-black--mw-117541-2.jpg\n",
            "Resolving i.mmo.cm (i.mmo.cm)... 23.53.34.58, 23.53.34.34, 2600:1405:1800::6867:452b, ...\n",
            "Connecting to i.mmo.cm (i.mmo.cm)|23.53.34.58|:443... connected.\n",
            "HTTP request sent, awaiting response... 200 OK\n",
            "Length: 145876 (142K) [image/jpeg]\n",
            "Saving to: ‘mephisto-half-mask-black--mw-117541-2.jpg’\n",
            "\n",
            "mephisto-half-mask- 100%[===================>] 142.46K  --.-KB/s    in 0.02s   \n",
            "\n",
            "2021-12-29 06:44:07 (8.80 MB/s) - ‘mephisto-half-mask-black--mw-117541-2.jpg’ saved [145876/145876]\n",
            "\n"
          ]
        }
      ]
    },
    {
      "cell_type": "code",
      "source": [
        "img = input()"
      ],
      "metadata": {
        "id": "jybo5tVQa4zu",
        "colab": {
          "base_uri": "https://localhost:8080/"
        },
        "outputId": "b2bfe7ac-bdf4-4571-acc7-774c532eb303"
      },
      "execution_count": 56,
      "outputs": [
        {
          "name": "stdout",
          "output_type": "stream",
          "text": [
            "/content/mephisto-half-mask-black--mw-117541-2.jpg\n"
          ]
        }
      ]
    },
    {
      "cell_type": "code",
      "source": [
        "from keras.preprocessing import image"
      ],
      "metadata": {
        "id": "iu_xH-Lqcyqr"
      },
      "execution_count": 44,
      "outputs": []
    },
    {
      "cell_type": "code",
      "source": [
        "img = image.load_img(img, target_size=(128, 128,3))\n",
        "plt.imshow(img)\n",
        "img = np.expand_dims(img, axis=0)\n",
        "pre = model.predict(img)\n",
        "print(pre)\n",
        "class_name = ['improper mask ','no mask',' mask']\n",
        "class_name[np.argmax(pre)]"
      ],
      "metadata": {
        "id": "TsU3T82NbRbe",
        "outputId": "17fc8017-01d9-4889-c862-d2138be4c854",
        "colab": {
          "base_uri": "https://localhost:8080/",
          "height": 305
        }
      },
      "execution_count": 57,
      "outputs": [
        {
          "output_type": "stream",
          "name": "stdout",
          "text": [
            "[[0. 1. 0.]]\n"
          ]
        },
        {
          "output_type": "execute_result",
          "data": {
            "application/vnd.google.colaboratory.intrinsic+json": {
              "type": "string"
            },
            "text/plain": [
              "'no mask'"
            ]
          },
          "metadata": {},
          "execution_count": 57
        },
        {
          "output_type": "display_data",
          "data": {
            "image/png": "[encoded data removed]",
            "text/plain": [
              "<Figure size 432x288 with 1 Axes>"
            ]
          },
          "metadata": {
            "needs_background": "light"
          }
        }
      ]
    },
    {
      "cell_type": "code",
      "source": [
        ""
      ],
      "metadata": {
        "id": "HeSEUdgx74qs"
      },
      "execution_count": null,
      "outputs": []
    },
    {
      "cell_type": "code",
      "source": [
        ""
      ],
      "metadata": {
        "id": "6xrg6nJ5a_Sx"
      },
      "execution_count": null,
      "outputs": []
    }
  ]
}