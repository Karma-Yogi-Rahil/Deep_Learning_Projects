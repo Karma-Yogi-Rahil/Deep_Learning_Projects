{
  "nbformat": 4,
  "nbformat_minor": 0,
  "metadata": {
    "colab": {
      "name": "mask violation.ipynb",
      "provenance": [],
      "authorship_tag": "ABX9TyP0H6w2FgXPQ4HxsvBxoVt0",
      "include_colab_link": true
    },
    "kernelspec": {
      "name": "python3",
      "display_name": "Python 3"
    },
    "language_info": {
      "name": "python"
    },
    "accelerator": "GPU"
  },
  "cells": [
    {
      "cell_type": "markdown",
      "metadata": {
        "id": "view-in-github",
        "colab_type": "text"
      },
      "source": [
        "<a href=\"https://colab.research.google.com/github/from-iqwerty-import-IQ/Deep_Learning_Projects/blob/main/Mask%20Protocal%20Violation%20/mask_violation.ipynb\" target=\"_parent\"><img src=\"https://colab.research.google.com/assets/colab-badge.svg\" alt=\"Open In Colab\"/></a>"
      ]
    },
    {
      "cell_type": "code",
      "source": [
        "import os \n",
        "os.environ['KAGGLE_CONFIG_DIR'] = '/content'\n"
      ],
      "metadata": {
        "id": "c1xir4YRSYlz"
      },
      "execution_count": 22,
      "outputs": []
    },
    {
      "cell_type": "code",
      "source": [
        "!kaggle datasets download -d alfaromeo676/face-mask-dataset\n"
      ],
      "metadata": {
        "colab": {
          "base_uri": "https://localhost:8080/"
        },
        "id": "4PEFaxTjSoE0",
        "outputId": "614b908a-5cbc-4b8e-8ec8-697f80807df4"
      },
      "execution_count": 26,
      "outputs": [
        {
          "output_type": "stream",
          "name": "stdout",
          "text": [
            "Warning: Your Kaggle API key is readable by other users on this system! To fix this, you can run 'chmod 600 /content/kaggle.json'\n",
            "Downloading face-mask-dataset.zip to /content\n",
            "100% 17.6G/17.6G [03:21<00:00, 35.5MB/s]\n",
            "100% 17.6G/17.6G [03:21<00:00, 93.8MB/s]\n"
          ]
        }
      ]
    },
    {
      "cell_type": "code",
      "source": [
        "%%capture\n",
        "!unzip \\*.zip && rm *.zip &> /dev/null"
      ],
      "metadata": {
        "id": "NeKRD_GtS4qA"
      },
      "execution_count": 27,
      "outputs": []
    },
    {
      "cell_type": "code",
      "metadata": {
        "id": "gL36KwAWUXWQ"
      },
      "source": [
        "import tensorflow as tf\n",
        "from tensorflow import keras\n",
        "from tensorflow.keras.preprocessing.image import ImageDataGenerator\n",
        "import matplotlib.pyplot as plt\n",
        "import numpy as np\n",
        "import pandas as pd\n",
        "import os\n",
        "\n",
        "import matplotlib.pyplot as plt\n",
        "import matplotlib.image as mpimg\n",
        "from tensorflow.keras import models\n",
        "from tensorflow.keras import layers\n",
        "from tensorflow.keras.applications import ResNet50\n",
        "from sklearn.preprocessing import LabelBinarizer"
      ],
      "execution_count": 29,
      "outputs": []
    },
    {
      "cell_type": "code",
      "metadata": {
        "id": "4zqxvTdHUZu3"
      },
      "source": [
        "training_dir = '/content/train'\n",
        "test_dir = '/content/Mask dataset/test'"
      ],
      "execution_count": 30,
      "outputs": []
    },
    {
      "cell_type": "code",
      "metadata": {
        "id": "iwqRNR_aU4eF"
      },
      "source": [
        ""
      ],
      "execution_count": null,
      "outputs": []
    },
    {
      "cell_type": "markdown",
      "source": [
        ""
      ],
      "metadata": {
        "id": "BFh2H6sRSXIR"
      }
    },
    {
      "cell_type": "code",
      "metadata": {
        "id": "U-9cmQHRXekA"
      },
      "source": [
        "train_datagen = ImageDataGenerator(rescale=1./255,\n",
        "                                   \n",
        "                                   validation_split = 0.25)"
      ],
      "execution_count": 53,
      "outputs": []
    },
    {
      "cell_type": "code",
      "source": [
        "\"\"\"\n",
        "rotation_range = 40,\n",
        "                                   width_shift_range=0.2,\n",
        "                                   height_shift_range=0.2,\n",
        "                                   shear_range=0.2,\n",
        "                                   zoom_range = 0.2,\n",
        "                                   horizontal_flip=True,\"\"\""
      ],
      "metadata": {
        "id": "nnw19bXX0LJ0",
        "outputId": "6febe138-c825-449f-a15d-e71efee07d9f",
        "colab": {
          "base_uri": "https://localhost:8080/",
          "height": 54
        }
      },
      "execution_count": 40,
      "outputs": [
        {
          "output_type": "execute_result",
          "data": {
            "application/vnd.google.colaboratory.intrinsic+json": {
              "type": "string"
            },
            "text/plain": [
              "'\\nrotation_range = 40,\\n                                   width_shift_range=0.2,\\n                                   height_shift_range=0.2,\\n                                   shear_range=0.2,\\n                                   zoom_range = 0.2,\\n                                   horizontal_flip=True,'"
            ]
          },
          "metadata": {},
          "execution_count": 40
        }
      ]
    },
    {
      "cell_type": "code",
      "metadata": {
        "id": "lLdV0Yo8XjYD",
        "outputId": "782010ab-9b9b-477f-8a3f-4d3a2c58c1f7",
        "colab": {
          "base_uri": "https://localhost:8080/"
        }
      },
      "source": [
        "train_genrator = train_datagen.flow_from_directory(\n",
        "    training_dir,\n",
        "    target_size = (224,224),\n",
        "    batch_size = 32,\n",
        "    class_mode = 'categorical',\n",
        "    subset='training',\n",
        "    \n",
        "\n",
        ")\n",
        "\n",
        "validate_genrator = train_datagen.flow_from_directory(\n",
        "    training_dir,\n",
        "    target_size = (224,224),\n",
        "    batch_size = 32,\n",
        "    class_mode = 'categorical',\n",
        "    subset='validation',\n",
        "    \n",
        ")"
      ],
      "execution_count": 54,
      "outputs": [
        {
          "output_type": "stream",
          "name": "stdout",
          "text": [
            "Found 22789 images belonging to 3 classes.\n",
            "Found 7595 images belonging to 3 classes.\n"
          ]
        }
      ]
    },
    {
      "cell_type": "code",
      "source": [
        "model = models.Sequential()\n",
        "\n",
        "model.add(layers.Conv2D(64,(3,3),input_shape=(224,224,3),activation='relu'))\n",
        "model.add(layers.MaxPool2D(2,2))\n",
        "\n",
        "model.add(layers.Conv2D(64,(3,3),activation='relu'))\n",
        "model.add(layers.MaxPool2D(2,2))\n",
        "\n",
        "model.add(layers.Conv2D(128,(3,3),activation='relu'))\n",
        "model.add(layers.MaxPool2D(2,2))\n",
        "\n",
        "model.add(layers.Conv2D(512,(3,3),activation='relu'))\n",
        "model.add(layers.MaxPool2D(2,2))\n",
        "\n",
        "model.add(layers.Flatten())\n",
        "model.add(layers.Dropout(0.3))\n",
        "\n",
        "model.add(layers.Dense(512,activation='relu'))\n",
        "model.add(layers.Dense(512,activation='relu'))\n",
        "model.add(layers.Dense(3,activation='softmax'))\n",
        "model.summary()"
      ],
      "metadata": {
        "colab": {
          "base_uri": "https://localhost:8080/"
        },
        "id": "RXxllDonqesm",
        "outputId": "b9b7d97e-0c37-4ad2-f0f2-4e52bc57ab84"
      },
      "execution_count": 55,
      "outputs": [
        {
          "output_type": "stream",
          "name": "stdout",
          "text": [
            "Model: \"sequential_4\"\n",
            "_________________________________________________________________\n",
            " Layer (type)                Output Shape              Param #   \n",
            "=================================================================\n",
            " conv2d_16 (Conv2D)          (None, 222, 222, 64)      1792      \n",
            "                                                                 \n",
            " max_pooling2d_16 (MaxPoolin  (None, 111, 111, 64)     0         \n",
            " g2D)                                                            \n",
            "                                                                 \n",
            " conv2d_17 (Conv2D)          (None, 109, 109, 64)      36928     \n",
            "                                                                 \n",
            " max_pooling2d_17 (MaxPoolin  (None, 54, 54, 64)       0         \n",
            " g2D)                                                            \n",
            "                                                                 \n",
            " conv2d_18 (Conv2D)          (None, 52, 52, 128)       73856     \n",
            "                                                                 \n",
            " max_pooling2d_18 (MaxPoolin  (None, 26, 26, 128)      0         \n",
            " g2D)                                                            \n",
            "                                                                 \n",
            " conv2d_19 (Conv2D)          (None, 24, 24, 512)       590336    \n",
            "                                                                 \n",
            " max_pooling2d_19 (MaxPoolin  (None, 12, 12, 512)      0         \n",
            " g2D)                                                            \n",
            "                                                                 \n",
            " flatten_4 (Flatten)         (None, 73728)             0         \n",
            "                                                                 \n",
            " dropout_4 (Dropout)         (None, 73728)             0         \n",
            "                                                                 \n",
            " dense_12 (Dense)            (None, 512)               37749248  \n",
            "                                                                 \n",
            " dense_13 (Dense)            (None, 512)               262656    \n",
            "                                                                 \n",
            " dense_14 (Dense)            (None, 3)                 1539      \n",
            "                                                                 \n",
            "=================================================================\n",
            "Total params: 38,716,355\n",
            "Trainable params: 38,716,355\n",
            "Non-trainable params: 0\n",
            "_________________________________________________________________\n"
          ]
        }
      ]
    },
    {
      "cell_type": "code",
      "metadata": {
        "id": "Go9uxBWjXxv3"
      },
      "source": [
        "model.compile(optimizer=tf.keras.optimizers.Adam(learning_rate = 0.001),\n",
        "              metrics = ['acc'],\n",
        "               loss=tf.keras.losses.CategoricalCrossentropy())\n"
      ],
      "execution_count": 56,
      "outputs": []
    },
    {
      "cell_type": "code",
      "metadata": {
        "id": "tfU8auVGXxyo"
      },
      "source": [
        "check_point = tf.keras.callbacks.ModelCheckpoint(filepath=\"/content/transfer_l_mode.h5\",\n",
        "                                         monitor=\"val_acc\",\n",
        "                                         mode=\"max\",\n",
        "                                         save_best_only=True,)\n",
        "\n",
        "#8early_stopping = tf.keras.callback.EarlyStopping(patience=5, verbose=1)"
      ],
      "execution_count": 57,
      "outputs": []
    },
    {
      "cell_type": "code",
      "metadata": {
        "id": "Wz-UE4JyYGqh",
        "outputId": "b47e5de4-4745-4a87-8594-8881b7b94659",
        "colab": {
          "base_uri": "https://localhost:8080/"
        }
      },
      "source": [
        "trained_model = model.fit(\n",
        "    train_genrator,\n",
        "    validation_data= validate_genrator,\n",
        "    epochs = 2,\n",
        "    #steps_per_epoch=100,\n",
        "    #validation_steps=33,\n",
        "    callbacks = [check_point]\n",
        "    )"
      ],
      "execution_count": 58,
      "outputs": [
        {
          "output_type": "stream",
          "name": "stdout",
          "text": [
            "Epoch 1/2\n",
            "713/713 [==============================] - 888s 1s/step - loss: 0.0713 - acc: 0.9752 - val_loss: 0.0194 - val_acc: 0.9941\n",
            "Epoch 2/2\n",
            "713/713 [==============================] - 883s 1s/step - loss: 0.0185 - acc: 0.9955 - val_loss: 0.0073 - val_acc: 0.9975\n"
          ]
        }
      ]
    },
    {
      "cell_type": "code",
      "source": [
        "plt.plot(trained_model.history['acc'])\n",
        "plt.plot(trained_model.history['val_acc'])\n",
        "plt.title('model accuracy')\n",
        "plt.ylabel('accuracy')\n",
        "plt.xlabel('epoch')\n",
        "plt.legend(['Train', 'Validation'], loc='upper left')\n",
        "plt.show()\n",
        "# summarize history for loss\n",
        "plt.plot(trained_model.history['loss'])\n",
        "plt.plot(trained_model.history['val_loss'])\n",
        "plt.title('model loss')\n",
        "plt.ylabel('loss')\n",
        "plt.xlabel('epoch')\n",
        "plt.legend(['Train', 'Validation'], loc='upper left')\n",
        "plt.show()"
      ],
      "metadata": {
        "colab": {
          "base_uri": "https://localhost:8080/",
          "height": 573
        },
        "id": "NCzuizk5YIBN",
        "outputId": "e14e417d-8a46-4d2d-a3f0-210b2e0d1177"
      },
      "execution_count": 59,
      "outputs": [
        {
          "output_type": "display_data",
          "data": {
            "image/png": "[encoded data removed]",
            "text/plain": [
              "<Figure size 432x288 with 1 Axes>"
            ]
          },
          "metadata": {
            "needs_background": "light"
          }
        },
        {
          "output_type": "display_data",
          "data": {
            "image/png": "[encoded data removed]",
            "text/plain": [
              "<Figure size 432x288 with 1 Axes>"
            ]
          },
          "metadata": {
            "needs_background": "light"
          }
        }
      ]
    },
    {
      "cell_type": "code",
      "source": [
        "model.evaluate(validate_genrator)"
      ],
      "metadata": {
        "id": "FhW5s36jgCwd",
        "outputId": "1f994851-7d22-4662-af74-c31660d217d7",
        "colab": {
          "base_uri": "https://localhost:8080/"
        }
      },
      "execution_count": 60,
      "outputs": [
        {
          "output_type": "stream",
          "name": "stdout",
          "text": [
            "238/238 [==============================] - 208s 874ms/step - loss: 0.0073 - acc: 0.9975\n"
          ]
        },
        {
          "output_type": "execute_result",
          "data": {
            "text/plain": [
              "[0.007326568476855755, 0.9974983334541321]"
            ]
          },
          "metadata": {},
          "execution_count": 60
        }
      ]
    },
    {
      "cell_type": "code",
      "source": [
        ""
      ],
      "metadata": {
        "id": "qkIQzSI63xcv",
        "outputId": "eb7e3242-283c-4ee5-83ba-6f4333586d36",
        "colab": {
          "base_uri": "https://localhost:8080/",
          "height": 164
        }
      },
      "execution_count": 67,
      "outputs": [
        {
          "output_type": "error",
          "ename": "AttributeError",
          "evalue": "ignored",
          "traceback": [
            "\u001b[0;31m---------------------------------------------------------------------------\u001b[0m",
            "\u001b[0;31mAttributeError\u001b[0m                            Traceback (most recent call last)",
            "\u001b[0;32m<ipython-input-67-8cfdc4db6370>\u001b[0m in \u001b[0;36m<module>\u001b[0;34m()\u001b[0m\n\u001b[0;32m----> 1\u001b[0;31m \u001b[0mmodel\u001b[0m\u001b[0;34m.\u001b[0m\u001b[0mclass_names\u001b[0m\u001b[0;34m\u001b[0m\u001b[0;34m\u001b[0m\u001b[0m\n\u001b[0m",
            "\u001b[0;31mAttributeError\u001b[0m: 'Sequential' object has no attribute 'class_names'"
          ]
        }
      ]
    },
    {
      "cell_type": "markdown",
      "source": [
        "# Unknown data "
      ],
      "metadata": {
        "id": "CMmVVujw3ya7"
      }
    },
    {
      "cell_type": "code",
      "source": [
        "!kaggle datasets download -d vijaykumar1799/face-mask-detection"
      ],
      "metadata": {
        "id": "rqOY8dDQ7jZy",
        "outputId": "6c01f6f2-865f-4fb1-bb79-fa33fd32984e",
        "colab": {
          "base_uri": "https://localhost:8080/"
        }
      },
      "execution_count": 61,
      "outputs": [
        {
          "output_type": "stream",
          "name": "stdout",
          "text": [
            "Warning: Your Kaggle API key is readable by other users on this system! To fix this, you can run 'chmod 600 /content/kaggle.json'\n",
            "Downloading face-mask-detection.zip to /content\n",
            " 98% 217M/222M [00:05<00:00, 33.4MB/s]\n",
            "100% 222M/222M [00:05<00:00, 42.8MB/s]\n"
          ]
        }
      ]
    },
    {
      "cell_type": "code",
      "source": [
        "%%capture\n",
        "!unzip \\*.zip && rm *.zip &> /dev/null"
      ],
      "metadata": {
        "id": "pNnwjDGU82An"
      },
      "execution_count": 62,
      "outputs": []
    },
    {
      "cell_type": "code",
      "source": [
        "test_dir = '/content/Dataset'"
      ],
      "metadata": {
        "id": "2Ga2tGL3-JbQ"
      },
      "execution_count": 63,
      "outputs": []
    },
    {
      "cell_type": "code",
      "source": [
        "test_datagen = ImageDataGenerator(rescale=1./255)"
      ],
      "metadata": {
        "id": "u6XYAweqyaN5"
      },
      "execution_count": 64,
      "outputs": []
    },
    {
      "cell_type": "code",
      "source": [
        "test_genrator = test_datagen.flow_from_directory(\n",
        "    test_dir,\n",
        "    target_size = (224,224),\n",
        "    batch_size = 20,\n",
        "    class_mode = 'categorical',\n",
        "    #subset='validation',\n",
        "    \n",
        ")"
      ],
      "metadata": {
        "id": "UczSYSwYgCpD",
        "outputId": "71986ec6-1d16-4066-93e0-6f14891cae62",
        "colab": {
          "base_uri": "https://localhost:8080/"
        }
      },
      "execution_count": 65,
      "outputs": [
        {
          "output_type": "stream",
          "name": "stdout",
          "text": [
            "Found 8982 images belonging to 3 classes.\n"
          ]
        }
      ]
    },
    {
      "cell_type": "code",
      "metadata": {
        "id": "QvCd6nI_Ya3Q",
        "outputId": "a92523ba-c9c1-4ce9-9bd7-7c5d3c7f5263",
        "colab": {
          "base_uri": "https://localhost:8080/"
        }
      },
      "source": [
        "model.evaluate(test_genrator)"
      ],
      "execution_count": 66,
      "outputs": [
        {
          "output_type": "stream",
          "name": "stdout",
          "text": [
            "450/450 [==============================] - 16s 35ms/step - loss: 6.4194 - acc: 0.3952\n"
          ]
        },
        {
          "output_type": "execute_result",
          "data": {
            "text/plain": [
              "[6.419381618499756, 0.3952349126338959]"
            ]
          },
          "metadata": {},
          "execution_count": 66
        }
      ]
    },
    {
      "cell_type": "code",
      "source": [
        ""
      ],
      "metadata": {
        "id": "ozQ2LuHJzJe8"
      },
      "execution_count": null,
      "outputs": []
    },
    {
      "cell_type": "code",
      "source": [
        ""
      ],
      "metadata": {
        "id": "CEgh1qS5zJiB"
      },
      "execution_count": null,
      "outputs": []
    },
    {
      "cell_type": "code",
      "source": [
        ""
      ],
      "metadata": {
        "id": "aE2d5UMozJmF"
      },
      "execution_count": null,
      "outputs": []
    },
    {
      "cell_type": "code",
      "source": [
        ""
      ],
      "metadata": {
        "id": "S92Qmop9zJo8"
      },
      "execution_count": null,
      "outputs": []
    },
    {
      "cell_type": "code",
      "source": [
        ""
      ],
      "metadata": {
        "id": "sSvdHoB5zJrq"
      },
      "execution_count": null,
      "outputs": []
    },
    {
      "cell_type": "code",
      "source": [
        ""
      ],
      "metadata": {
        "id": "QHmqUu4mzJt8"
      },
      "execution_count": null,
      "outputs": []
    },
    {
      "cell_type": "code",
      "source": [
        ""
      ],
      "metadata": {
        "id": "sAQumK7HzJwx"
      },
      "execution_count": null,
      "outputs": []
    },
    {
      "cell_type": "code",
      "metadata": {
        "id": "9x8eSObzYa-X"
      },
      "source": [
        "model.save(\"/content/mask_detection_open.h5\")"
      ],
      "execution_count": null,
      "outputs": []
    },
    {
      "cell_type": "code",
      "metadata": {
        "id": "cC9kKFHpYbBq",
        "outputId": "8f2f70d5-69e2-4a76-c63b-3f689562608e",
        "colab": {
          "base_uri": "https://localhost:8080/"
        }
      },
      "source": [
        "!wget 'https://i.mmo.cm/is/image/mmoimg/mw-product-zoom/mephisto-half-mask-black--mw-117541-2.jpg'"
      ],
      "execution_count": 68,
      "outputs": [
        {
          "output_type": "stream",
          "name": "stdout",
          "text": [
            "--2021-12-30 06:17:07--  https://i.mmo.cm/is/image/mmoimg/mw-product-zoom/mephisto-half-mask-black--mw-117541-2.jpg\n",
            "Resolving i.mmo.cm (i.mmo.cm)... 104.110.240.96, 104.110.240.130, 2a02:26f0:b200::58dd:1913, ...\n",
            "Connecting to i.mmo.cm (i.mmo.cm)|104.110.240.96|:443... connected.\n",
            "HTTP request sent, awaiting response... 200 OK\n",
            "Length: 145876 (142K) [image/jpeg]\n",
            "Saving to: ‘mephisto-half-mask-black--mw-117541-2.jpg’\n",
            "\n",
            "\r          mephisto-   0%[                    ]       0  --.-KB/s               \rmephisto-half-mask- 100%[===================>] 142.46K  --.-KB/s    in 0.01s   \n",
            "\n",
            "2021-12-30 06:17:07 (12.0 MB/s) - ‘mephisto-half-mask-black--mw-117541-2.jpg’ saved [145876/145876]\n",
            "\n"
          ]
        }
      ]
    },
    {
      "cell_type": "code",
      "source": [
        "from keras.preprocessing import image"
      ],
      "metadata": {
        "id": "iu_xH-Lqcyqr"
      },
      "execution_count": 70,
      "outputs": []
    },
    {
      "cell_type": "code",
      "source": [
        "img = input()"
      ],
      "metadata": {
        "id": "jybo5tVQa4zu",
        "colab": {
          "base_uri": "https://localhost:8080/"
        },
        "outputId": "01c1238f-162d-48ca-b349-22c00ebc0e14"
      },
      "execution_count": 74,
      "outputs": [
        {
          "name": "stdout",
          "output_type": "stream",
          "text": [
            "/content/mephisto-half-mask-black--mw-117541-2.jpg\n"
          ]
        }
      ]
    },
    {
      "cell_type": "code",
      "source": [
        "img = image.load_img(img, target_size=(224, 224,3))\n",
        "plt.imshow(img)\n",
        "img = np.expand_dims(img, axis=0)\n",
        "pre = model.predict(img)\n",
        "print(pre)\n",
        "class_name = ['improper mask ','no mask',' mask']\n",
        "class_name[np.argmax(pre)]"
      ],
      "metadata": {
        "id": "TsU3T82NbRbe",
        "outputId": "799d4e25-5329-46b0-a039-29d8d9de6862",
        "colab": {
          "base_uri": "https://localhost:8080/",
          "height": 306
        }
      },
      "execution_count": 75,
      "outputs": [
        {
          "output_type": "stream",
          "name": "stdout",
          "text": [
            "[[1.000000e+00 0.000000e+00 4.258858e-08]]\n"
          ]
        },
        {
          "output_type": "execute_result",
          "data": {
            "application/vnd.google.colaboratory.intrinsic+json": {
              "type": "string"
            },
            "text/plain": [
              "'improper mask '"
            ]
          },
          "metadata": {},
          "execution_count": 75
        },
        {
          "output_type": "display_data",
          "data": {
            "image/png": "[encoded data removed]",
            "text/plain": [
              "<Figure size 432x288 with 1 Axes>"
            ]
          },
          "metadata": {
            "needs_background": "light"
          }
        }
      ]
    },
    {
      "cell_type": "code",
      "source": [
        ""
      ],
      "metadata": {
        "id": "HeSEUdgx74qs"
      },
      "execution_count": null,
      "outputs": []
    },
    {
      "cell_type": "code",
      "source": [
        ""
      ],
      "metadata": {
        "id": "6xrg6nJ5a_Sx"
      },
      "execution_count": null,
      "outputs": []
    }
  ]
}